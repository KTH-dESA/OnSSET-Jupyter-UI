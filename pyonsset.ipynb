{
 "cells": [
  {
   "cell_type": "markdown",
   "metadata": {},
   "source": [
    "# Welcome to ONSSET\n",
    "\n",
    "This is the full code for the Open Source Spatial Electrification Toolkit. This page will guide you through the code, as well as the various parameters that can be set to explore any scenario of interest. The code is split up into blocks, and each one has a preceding block of text to explain it."
   ]
  },
  {
   "cell_type": "markdown",
   "metadata": {},
   "source": [
    "### Here you can choose the country of the analysis, as well as the modelling period."
   ]
  },
  {
   "cell_type": "code",
   "execution_count": null,
   "metadata": {
    "collapsed": false
   },
   "outputs": [],
   "source": [
    "country = 'Benin'\n",
    "\n",
    "START_YEAR = 2015\n",
    "END_YEAR = 2030\n",
    "\n",
    "%matplotlib inline\n",
    "%run onsset_jupyter.py"
   ]
  },
  {
   "cell_type": "markdown",
   "metadata": {},
   "source": [
    "# Step 1 and 2. GIS data collection and processing\n",
    "\n",
    "GIS data collection and processing is a demanding and time consuming process. The necessary layers should be prepared and calibarated properly for the model to work. In this case pre-made data will be used in a form of .csv files avaialble <a href=\"https://drive.google.com/drive/folders/0B4H9lfvb9fHKUFNUUHM5UTJ6WW8\" target=\"_blank\">here</a>.\n",
    "\n",
    "You can see an example for the selected country below."
   ]
  },
  {
   "cell_type": "code",
   "execution_count": null,
   "metadata": {
    "collapsed": false
   },
   "outputs": [],
   "source": [
    "o = SettlementProcessor('{}.csv'.format(country))\n",
    "\n",
    "display(Markdown('### A random sampling from the input file for {}'.format(country)))\n",
    "o.df[['Country','X','Y','Pop','GridDistPlan','NightLights','TravelHours','GHI',\n",
    "    'WindVel','Hydropower','HydropowerDist']].sample(7)"
   ]
  },
  {
   "cell_type": "markdown",
   "metadata": {},
   "source": [
    "# Step 3a. Enter country specific data (Social)\n",
    "\n",
    "These are values that vary per country. They should be changed accordingly to better reflect the selected country's current and expected development."
   ]
  },
  {
   "cell_type": "code",
   "execution_count": null,
   "metadata": {
    "collapsed": false
   },
   "outputs": [],
   "source": [
    "pop_actual = 2262000\n",
    "pop_future = 2817000\n",
    "\n",
    "urban_current = 0.574966829\n",
    "urban_future = 0.633673829\n",
    "\n",
    "num_people_per_hh_rural = 3.7\n",
    "num_people_per_hh_urban = 3.7"
   ]
  },
  {
   "cell_type": "markdown",
   "metadata": {},
   "source": [
    "# Step 3b. Enter country specific data (Energy Access Target)"
   ]
  },
  {
   "cell_type": "code",
   "execution_count": null,
   "metadata": {
    "collapsed": false
   },
   "outputs": [],
   "source": [
    "energy_per_hh_rural = 1000  #  in kWh/household/year (examples are 22, 224, 695, 1800, 2195)\n",
    "energy_per_hh_urban = 1000\n",
    "\n",
    "o.condition_df()\n",
    "o.grid_penalties()\n",
    "o.calc_wind_cfs()\n",
    "\n",
    "ignore = o.calibrate_pop_and_urban(pop_actual, pop_future, urban_current, urban_future, 100)"
   ]
  },
  {
   "cell_type": "markdown",
   "metadata": {},
   "source": [
    "# Step 3c. Enter country specific data (Preparation - Calibration)\n",
    "The cell below contains the procedures to prepare the geospatial data and make it ready to process a scenario. This includes setting grid penalties, calculating wind capacity factors and estimating current population and electricity access a values.\n",
    "\n",
    "The most important part is to set the actual electricity access rate, and then to adjust the other parameters to let the software which settlements are electrified and which not."
   ]
  },
  {
   "cell_type": "code",
   "execution_count": null,
   "metadata": {
    "collapsed": true
   },
   "outputs": [],
   "source": [
    "elec_actual = 0.32"
   ]
  },
  {
   "cell_type": "markdown",
   "metadata": {},
   "source": [
    "Then you should set the parameters that decide whether or not a settlement is grid-connected, and run the block to see what the result is.\n",
    "\n",
    "### This will need to be repeated until a satisfactory value is reached!"
   ]
  },
  {
   "cell_type": "code",
   "execution_count": null,
   "metadata": {
    "collapsed": false
   },
   "outputs": [],
   "source": [
    "# Set the minimum night light intensity, below which it is assumed there is no electricity access.\n",
    "min_night_lights = 10\n",
    "\n",
    "# In addition to the above, one of the below conditions must be reached to consider a settlement eelctrified.\n",
    "pop_cutoff = 10000\n",
    "max_grid_dist = 10  # in km\n",
    "max_road_dist = 5  # in km\n",
    "\n",
    "o.df[SET_ELEC_CURRENT] = o.df.apply(lambda row: 1\n",
    "                                if row[SET_NIGHT_LIGHTS] > min_night_lights and\n",
    "                                    (row[SET_POP_CALIB] > pop_cutoff or\n",
    "                                    row[SET_GRID_DIST_CURRENT] < max_grid_dist or\n",
    "                                    row[SET_ROAD_DIST] < max_road_dist) else 0, axis=1)\n",
    "\n",
    "o.df.loc[o.df[SET_ELEC_CURRENT] == 1, SET_NEW_CONNECTIONS] = o.df[SET_POP_FUTURE] - o.df[SET_POP_CALIB]\n",
    "o.df.loc[o.df[SET_ELEC_CURRENT] == 0, SET_NEW_CONNECTIONS] = o.df[SET_POP_FUTURE]\n",
    "o.df.loc[o.df[SET_NEW_CONNECTIONS] < 0, SET_NEW_CONNECTIONS] = 0\n",
    "\n",
    "elec_modelled = o.df.loc[o.df[SET_ELEC_CURRENT] == 1, SET_POP_CALIB].sum() / pop_actual\n",
    "display(Markdown('### The modelled electrification rate is {:.2f}, compared to the actual value of {:.2f}. \\\n",
    "                 If this is acceptable, you can continue.'.format(elec_modelled, elec_actual)))\n",
    "display(Markdown('### A random sampling from the input file for {}, showing some newly calculated columns'\n",
    "                 .format(country)))\n",
    "o.df[[SET_X_DEG,SET_Y_DEG, SET_POP_FUTURE, SET_URBAN, SET_ELEC_CURRENT, SET_WINDCF, SET_GRID_PENALTY]].sample(5)"
   ]
  },
  {
   "cell_type": "markdown",
   "metadata": {},
   "source": [
    "# Step 3d. Enter country specific data (Technology specifications & costs)\n",
    "\n",
    "The cell below contains all the information that is used to calculate the levelised costs for all the technologies, including grid. These should be updated to reflect the most accurate values.\n",
    "\n",
    "The following values can be provided by KTH dESA, based on OSeMOSYS, the open source optimization model for long-run integrated assessment and energy planning.\n",
    "\n",
    "These are the technology parameters for extending the grid:"
   ]
  },
  {
   "cell_type": "code",
   "execution_count": null,
   "metadata": {
    "collapsed": false
   },
   "outputs": [],
   "source": [
    "project_life = END_YEAR - START_YEAR\n",
    "max_grid_extension_dist = 50\n",
    "grid_price = 0.05\n",
    "\n",
    "grid_calc = Technology(om_of_td_lines=0.03,\n",
    "                       distribution_losses=0.1,\n",
    "                       connection_cost_per_hh=125,\n",
    "                       base_to_peak_load_ratio=0.5,\n",
    "                       capacity_factor=1,\n",
    "                       tech_life=30,\n",
    "                       grid_capacity_investment=2000,\n",
    "                       grid_price=grid_price,\n",
    "                       project_life = project_life)"
   ]
  },
  {
   "cell_type": "markdown",
   "metadata": {},
   "source": [
    "These are the technology parameters for the diesel technologies:"
   ]
  },
  {
   "cell_type": "code",
   "execution_count": null,
   "metadata": {
    "collapsed": true
   },
   "outputs": [],
   "source": [
    "diesel_price = 0.5\n",
    "\n",
    "mg_diesel_calc = Technology(om_of_td_lines=0.03,\n",
    "                            distribution_losses=0.05,\n",
    "                            connection_cost_per_hh=100,\n",
    "                            base_to_peak_load_ratio=0.5,\n",
    "                            capacity_factor=0.7,\n",
    "                            tech_life=15,\n",
    "                            om_costs=0.1,\n",
    "                            efficiency=0.33,\n",
    "                            capital_cost=721,\n",
    "                            diesel_price=diesel_price,\n",
    "                            diesel_truck_consumption=33.7,\n",
    "                            diesel_truck_volume=15000,\n",
    "                            project_life = project_life)\n",
    "\n",
    "sa_diesel_calc = Technology(base_to_peak_load_ratio=0.5,\n",
    "                            capacity_factor=0.7,\n",
    "                            tech_life=10,\n",
    "                            om_costs=0.1,\n",
    "                            capital_cost=938,\n",
    "                            diesel_price=diesel_price,\n",
    "                            standalone=True,\n",
    "                            efficiency=0.28,\n",
    "                            diesel_truck_consumption=14,\n",
    "                            diesel_truck_volume=300,\n",
    "                            project_life = project_life)"
   ]
  },
  {
   "cell_type": "markdown",
   "metadata": {},
   "source": [
    "These are the technology parameters for PV:"
   ]
  },
  {
   "cell_type": "code",
   "execution_count": null,
   "metadata": {
    "collapsed": true
   },
   "outputs": [],
   "source": [
    "mg_pv_calc = Technology(om_of_td_lines=0.03,\n",
    "                        distribution_losses=0.05,\n",
    "                        connection_cost_per_hh=100,\n",
    "                        base_to_peak_load_ratio=0.9,\n",
    "                        tech_life=20,\n",
    "                        om_costs=0.015,\n",
    "                        capital_cost=4300,\n",
    "                        project_life = project_life)\n",
    "\n",
    "sa_pv_calc = Technology(base_to_peak_load_ratio=0.9,\n",
    "                        tech_life=15,\n",
    "                        om_costs=0.012,\n",
    "                        capital_cost=5500,\n",
    "                        standalone=True,\n",
    "                        project_life = project_life)"
   ]
  },
  {
   "cell_type": "markdown",
   "metadata": {},
   "source": [
    "These are the technology parameters for hydro and wind:"
   ]
  },
  {
   "cell_type": "code",
   "execution_count": null,
   "metadata": {
    "collapsed": true
   },
   "outputs": [],
   "source": [
    "mg_hydro_calc = Technology(om_of_td_lines=0.03,\n",
    "                           distribution_losses=0.05,\n",
    "                           connection_cost_per_hh=100,\n",
    "                           base_to_peak_load_ratio=1,\n",
    "                           capacity_factor=0.5,\n",
    "                           tech_life=30,\n",
    "                           capital_cost=5000,\n",
    "                           om_costs=0.02,\n",
    "                           project_life = project_life)\n",
    "\n",
    "mg_wind_calc = Technology(om_of_td_lines=0.03,\n",
    "                          distribution_losses=0.05,\n",
    "                          connection_cost_per_hh=100,\n",
    "                          base_to_peak_load_ratio=0.75,\n",
    "                          capital_cost=3000,\n",
    "                          om_costs=0.02,\n",
    "                          tech_life=20,\n",
    "                          project_life = project_life)"
   ]
  },
  {
   "cell_type": "markdown",
   "metadata": {},
   "source": [
    "# Step 4. Estimating the LCoE per technology under various demand profiles\n",
    "\n",
    "Every technology yields a different Levelized Cost for electricity production (LCoE) based on specific characteristics such as the population size and resource availability and/or cost. To illustrate, the cost of providing electricity in a low populated, isolated location (far from grid and roads) will probably be a more demanding (thus expensive) task than a high populated urban settlement. \n",
    "\n",
    "Here is an example of how the different technologies perform under the followinga assumptions:\n",
    " - Distance from the National Electricity grid: 20 km\n",
    " - Global Horizontal Irradiation: 1500 kWh/m2/year\n",
    " - Hydro Availability: Positive\n",
    " - Diesel price: 0.345 USD/liter\n",
    " \n",
    " ### Note: this block takes a bit of time"
   ]
  },
  {
   "cell_type": "code",
   "execution_count": null,
   "metadata": {
    "collapsed": false
   },
   "outputs": [],
   "source": [
    "grid_lcoes_rural = grid_calc.get_grid_table(energy_per_hh_rural, num_people_per_hh_rural, max_grid_extension_dist)\n",
    "grid_lcoes_urban = grid_calc.get_grid_table(energy_per_hh_urban, num_people_per_hh_urban, max_grid_extension_dist)\n",
    "display(Markdown('### Example of LCoE variation (in USD/kWh) per technology depending on number of people residing a settlement'))\n",
    "\n",
    "lcoe_eg_people = [10, 500, 1000, 2000, 5000, 10000]\n",
    "lcoe_eg_people_display = ['{} people'.format(p) for p in lcoe_eg_people]\n",
    "lcoe_sample = pd.DataFrame(columns=['grid', 'sa_diesel','sa_pv','mg_diesel','mg_pv','mg_wind','mg_hydro'],\n",
    "                           index=lcoe_eg_people_display)\n",
    "\n",
    "lcoe_sample['grid'] = [grid_calc.get_lcoe(energy_per_hh_urban, p, num_people_per_hh_urban,\n",
    "                                          additional_mv_line_length=20) for p in lcoe_eg_people]\n",
    "lcoe_sample['mg_wind'] = [mg_wind_calc.get_lcoe(energy_per_hh_urban, p, num_people_per_hh_urban,\n",
    "                                                capacity_factor = 0.4) for p in lcoe_eg_people]\n",
    "lcoe_sample['mg_hydro'] = [mg_hydro_calc.get_lcoe(energy_per_hh_urban, p, num_people_per_hh_urban,\n",
    "                                                  mv_line_length=4) for p in lcoe_eg_people]\n",
    "lcoe_sample['mg_pv'] = [mg_pv_calc.get_lcoe(energy_per_hh_urban, p, num_people_per_hh_urban,\n",
    "                                            capacity_factor = 1500/8760) for p in lcoe_eg_people]\n",
    "lcoe_sample['sa_pv'] = [sa_pv_calc.get_lcoe(energy_per_hh_urban, p, num_people_per_hh_urban,\n",
    "                                            capacity_factor = 1500/8760) for p in lcoe_eg_people]\n",
    "lcoe_sample['mg_diesel'] = [mg_diesel_calc.get_lcoe(energy_per_hh_urban, p, num_people_per_hh_urban,\n",
    "                                                    travel_hours=10) for p in lcoe_eg_people]\n",
    "lcoe_sample['sa_diesel'] = [sa_diesel_calc.get_lcoe(energy_per_hh_urban, p, num_people_per_hh_urban,\n",
    "                                                    travel_hours=10) for p in lcoe_eg_people]\n",
    "lcoe_sample.head(10)"
   ]
  },
  {
   "cell_type": "markdown",
   "metadata": {},
   "source": [
    "# Step 5. Calculate technology costs for every settlement in the country\n",
    "\n",
    "Based on the previous calculation this piece of code identifies the LCoE that every technology can provide, for each single populated settlement of the selected country."
   ]
  },
  {
   "cell_type": "code",
   "execution_count": null,
   "metadata": {
    "collapsed": false
   },
   "outputs": [],
   "source": [
    "o.set_scenario_variables(energy_per_hh_rural, energy_per_hh_urban,\n",
    "                         num_people_per_hh_rural, num_people_per_hh_urban)\n",
    "\n",
    "o.calculate_off_grid_lcoes(mg_hydro_calc, mg_wind_calc, mg_pv_calc,\n",
    "                           sa_pv_calc, mg_diesel_calc, sa_diesel_calc)\n",
    "display(Markdown('### A selection of LCoEs achieved for a sample of settlements'))\n",
    "o.df[[SET_LCOE_MG_HYDRO, SET_LCOE_MG_PV, SET_LCOE_SA_PV, SET_LCOE_MG_DIESEL, SET_LCOE_SA_DIESEL,\n",
    "    SET_LCOE_MG_WIND]].sample(7)"
   ]
  },
  {
   "cell_type": "markdown",
   "metadata": {},
   "source": [
    "# Step 6. Grid extensions - The electrification algorithm\n",
    "This cell takes all the currently grid-connected points in the country, and looks at the points within a certain distance from them, to see if it is more ecnomical to connect them to the grid, or to use one of the non-grid technologies calculate above. Once more points are connected to the grid, the process is repeated, so that new points close to those points might also be connected. This is repeated until there are no new points to connect to the grid.\n",
    "\n",
    "The onle value that needs to be entered is the additional cost paid when extending the grid, to strengthen the previous sections of grid. It is given asa ratio of the original cost of that grid section"
   ]
  },
  {
   "cell_type": "code",
   "execution_count": null,
   "metadata": {
    "collapsed": true
   },
   "outputs": [],
   "source": [
    "existing_grid_cost_ratio = 0.1"
   ]
  },
  {
   "cell_type": "markdown",
   "metadata": {},
   "source": [
    "Then this code runs the analysis."
   ]
  },
  {
   "cell_type": "code",
   "execution_count": null,
   "metadata": {
    "collapsed": false
   },
   "outputs": [],
   "source": [
    "o.run_elec(grid_lcoes_rural, grid_lcoes_urban, grid_price, existing_grid_cost_ratio, max_grid_extension_dist)\n",
    "elec2015 = o.df[SET_ELEC_CURRENT].sum()\n",
    "elec2030 = o.df.loc[o.df[SET_LCOE_GRID] < 99, SET_LCOE_GRID].count()\n",
    "display(Markdown('### The algorithm found {} new settlements to connect to the grid'.format(elec2030 - elec2015)))"
   ]
  },
  {
   "cell_type": "markdown",
   "metadata": {},
   "source": [
    "# Step 7 - Results, Summaries and Visualization\n",
    "With all the calculations and grid-extensions complete, this cell gets the final results on which technology was chosen for each point, how much capacity needs to be installed and what it will cost. Then the summaries are generated, to show the overall requirements for the country. The only values that can be changed here are some capacity factor values for different technologies."
   ]
  },
  {
   "cell_type": "code",
   "execution_count": null,
   "metadata": {
    "collapsed": false,
    "scrolled": false
   },
   "outputs": [],
   "source": [
    "o.results_columns(mg_hydro_calc, mg_wind_calc, mg_pv_calc, sa_pv_calc,\n",
    "                                 mg_diesel_calc, sa_diesel_calc, grid_calc)\n",
    "\n",
    "population_ = 'population_'\n",
    "new_connections_ = 'new_connections_'\n",
    "capacity_ = 'capacity_'\n",
    "investments_ = 'investment_'\n",
    "\n",
    "rows = []\n",
    "techs = [SET_LCOE_GRID,SET_LCOE_SA_DIESEL,SET_LCOE_SA_PV,SET_LCOE_MG_DIESEL,\n",
    "         SET_LCOE_MG_PV,SET_LCOE_MG_WIND,SET_LCOE_MG_HYDRO]\n",
    "colors = ['#73B2FF','#EDD100','#EDA800','#1F6600','#98E600','#70A800','#1FA800']\n",
    "techs_colors = dict(zip(techs, colors))\n",
    "\n",
    "rows.extend([population_ + t for t in techs])\n",
    "rows.extend([new_connections_ + t for t in techs])\n",
    "rows.extend([capacity_ + t for t in techs])\n",
    "rows.extend([investments_ + t for t in techs])\n",
    "summary = pd.Series(index=rows)\n",
    "\n",
    "for t in techs:\n",
    "    summary.loc[population_ + t] = o.df.loc[o.df[SET_MIN_OVERALL] == t, SET_POP_FUTURE].sum()\n",
    "    summary.loc[new_connections_ + t] = o.df.loc[o.df[SET_MIN_OVERALL] == t, SET_NEW_CONNECTIONS].sum()\n",
    "    summary.loc[capacity_ + t] = o.df.loc[o.df[SET_MIN_OVERALL] == t, SET_NEW_CAPACITY].sum()\n",
    "    summary.loc[investments_ + t] = o.df.loc[o.df[SET_MIN_OVERALL] == t, SET_INVESTMENT_COST].sum()\n",
    "\n",
    "display(Markdown('### Summaries  \\nThese are the summaized results for full electrification of the selected country by 2030'))\n",
    "index = techs + ['Total']\n",
    "columns = ['Population', 'New connections', 'Capacity (kW)', 'Investments (million USD)']\n",
    "summary_table = pd.DataFrame(index=index, columns=columns)\n",
    "\n",
    "summary_table[columns[0]] = summary.iloc[0:7].astype(int).tolist() + [int(summary.iloc[0:7].sum())]\n",
    "summary_table[columns[1]] = summary.iloc[7:14].astype(int).tolist() + [int(summary.iloc[7:14].sum())]\n",
    "summary_table[columns[2]] = summary.iloc[14:21].astype(int).tolist() + [int(summary.iloc[14:21].sum())]\n",
    "summary_table[columns[3]] = [round(x/1e4)/1e2 for x in summary.iloc[21:28].astype(float).tolist()] + [round(summary.iloc[21:28].sum()/1e4)/1e2]\n",
    "summary_table.head(10)"
   ]
  },
  {
   "cell_type": "code",
   "execution_count": null,
   "metadata": {
    "collapsed": false,
    "scrolled": false
   },
   "outputs": [],
   "source": [
    "summary_plot=summary_table.drop(labels='Total',axis=0)\n",
    "fig_size = [30, 30]\n",
    "font_size = 15\n",
    "plt.rcParams[\"figure.figsize\"] = fig_size\n",
    "f, axarr = plt.subplots(2, 2)\n",
    "fig_size = [30, 30]\n",
    "font_size = 15\n",
    "plt.rcParams[\"figure.figsize\"] = fig_size\n",
    "\n",
    "sns.barplot(x=summary_plot.index.tolist(), y=columns[0], data=summary_plot, ax=axarr[0, 0], palette=colors)\n",
    "axarr[0, 0].set_ylabel(columns[0], fontsize=2*font_size)\n",
    "axarr[0, 0].tick_params(labelsize=font_size)\n",
    "sns.barplot(x=summary_plot.index.tolist(), y=columns[1], data=summary_plot, ax=axarr[0, 1], palette=colors)\n",
    "axarr[0, 1].set_ylabel(columns[1], fontsize=2*font_size)\n",
    "axarr[0, 1].tick_params(labelsize=font_size)\n",
    "sns.barplot(x=summary_plot.index.tolist(), y=columns[2], data=summary_plot, ax=axarr[1, 0], palette=colors)\n",
    "axarr[1, 0].set_ylabel(columns[2], fontsize=2*font_size)\n",
    "axarr[1, 0].tick_params(labelsize=font_size)\n",
    "sns.barplot(x=summary_plot.index.tolist(), y=columns[3], data=summary_plot, ax=axarr[1, 1], palette=colors)\n",
    "axarr[1, 1].set_ylabel(columns[3], fontsize=2*font_size)\n",
    "axarr[1, 1].tick_params(labelsize=font_size)"
   ]
  },
  {
   "cell_type": "markdown",
   "metadata": {},
   "source": [
    "## Mapping of electrification results\n",
    "\n",
    "This code generates two maps:\n",
    " - one showing the spread of technologies\n",
    " - one showing the cost of electricity at each point\n",
    " \n",
    "They can be accessed using the links below."
   ]
  },
  {
   "cell_type": "code",
   "execution_count": null,
   "metadata": {
    "collapsed": false,
    "scrolled": false
   },
   "outputs": [],
   "source": [
    "x_ave = o.df[SET_X_DEG].mean()\n",
    "y_ave = o.df[SET_Y_DEG].mean()\n",
    "lcoe_ave = o.df[SET_MIN_OVERALL_LCOE].median()\n",
    "\n",
    "map_tech = folium.Map(location=[y_ave,x_ave], zoom_start=6)\n",
    "map_lcoe = folium.Map(location=[y_ave,x_ave], zoom_start=6)\n",
    "\n",
    "for index, row in o.df.iterrows():\n",
    "    tech_color = techs_colors[(row[SET_MIN_OVERALL])]\n",
    "    folium.CircleMarker([row[SET_Y_DEG], row[SET_X_DEG]],\n",
    "                        radius=5000,#cell_size*300*(row['LCOE']/lcoe_ave)**2,\n",
    "                        #popup='LCOE: {0:.3f} USD/kWh'.format(row['LCOE']),\n",
    "                        color=tech_color,\n",
    "                        fill_color=tech_color,\n",
    "                       ).add_to(map_tech)\n",
    "\n",
    "\n",
    "lcoe_colors = {0.1: '#edf8fb',0.2: '#ccece6',0.3: '#99d8c9',0.4: '#66c2a4',0.5: '#2ca25f',0.6: '#006d2c'}\n",
    "for index, row in o.df.iterrows():\n",
    "    lcoe = row[SET_MIN_OVERALL_LCOE]\n",
    "    if lcoe > 0.6: lcoe = 0.6\n",
    "    lcoe_color = lcoe_colors[ceil(lcoe*10)/10]\n",
    "    folium.CircleMarker([row[SET_Y_DEG], row[SET_X_DEG]],\n",
    "                        radius=5000,#cell_size*300*(row['LCOE']/lcoe_ave)**2,\n",
    "                        #popup='LCOE: {0:.3f} USD/kWh'.format(row['LCOE']),\n",
    "                        color=lcoe_color,\n",
    "                        fill_color=lcoe_color,\n",
    "                       ).add_to(map_lcoe)\n",
    "    \n",
    "grid_lines = []\n",
    "for item in json.load(open('grid_planned.json'))['features']:\n",
    "    grid_lines.append(item['geometry']['paths'][0])\n",
    "for item in json.load(open('grid_existing.json'))['features']:\n",
    "    grid_lines.append(item['geometry']['paths'][0])\n",
    "    \n",
    "for line in grid_lines:\n",
    "    folium.PolyLine(line,\n",
    "                    color='#656464',\n",
    "                    weight=2.5,\n",
    "                    opacity=0.9,\n",
    "                    latlon=False).add_to(map_tech)\n",
    "    folium.PolyLine(line,\n",
    "                    color='#656464',\n",
    "                    weight=2.5,\n",
    "                    opacity=0.9,\n",
    "                    latlon=False).add_to(map_lcoe)\n",
    "\n",
    "map_tech_output = 'maps/map_{}{}_tech.html'.format(country, energy_per_hh_urban)\n",
    "map_tech.save(map_tech_output)\n",
    "map_lcoe_output = 'maps/map_{}{}_lcoe.html'.format(country, energy_per_hh_urban)\n",
    "map_lcoe.save(map_lcoe_output)\n",
    "\n",
    "display(Markdown('<a href=\"{}\" target=\"_blank\">Map of technology split</a>'.format(map_tech_output)))\n",
    "display(Markdown('Colour coding for technology split:'))\n",
    "display(HTML('<font color=\"{}\">&bull;Grid</font>&nbsp;&nbsp;&nbsp;<font color=\"{}\">&bull;SA Diesel</font>&nbsp;&nbsp;&nbsp;\\\n",
    "             <font color=\"{}\">&bull;SA PV</font>&nbsp;&nbsp;&nbsp;<font color=\"{}\">&bull;MG Diesel</font>&nbsp;&nbsp;&nbsp;\\\n",
    "             <font color=\"{}\">&bull;MG PV</font>&nbsp;&nbsp;&nbsp;<font color=\"{}\">&bull;Wind</font>&nbsp;&nbsp;&nbsp;\\\n",
    "             <font color=\"{}\">&bull;Hydro</font>'.format(techs_colors[SET_LCOE_GRID], techs_colors[SET_LCOE_SA_DIESEL],\n",
    "                                                         techs_colors[SET_LCOE_SA_PV], techs_colors[SET_LCOE_MG_DIESEL],\n",
    "                                                         techs_colors[SET_LCOE_MG_PV], techs_colors[SET_LCOE_MG_WIND],\n",
    "                                                         techs_colors[SET_LCOE_MG_HYDRO])))\n",
    "\n",
    "display(Markdown('<a href=\"{}\" target=\"_blank\">Map of electricity cost</a>'.format(map_lcoe_output)))\n",
    "display(Markdown('Colour coding for LCOE, in USD/kWh'))\n",
    "cm.LinearColormap(['#edf8fb','#ccece6','#99d8c9','#66c2a4','#2ca25f','#006d2c'],\n",
    "                  index=[0.1, 0.2, 0.3, 0.4, 0.5, 0.6], vmin=0, vmax=0.6)"
   ]
  },
  {
   "cell_type": "code",
   "execution_count": null,
   "metadata": {
    "collapsed": true
   },
   "outputs": [],
   "source": []
  }
 ],
 "metadata": {
  "anaconda-cloud": {},
  "kernelspec": {
   "display_name": "Python [Root]",
   "language": "python",
   "name": "Python [Root]"
  },
  "language_info": {
   "codemirror_mode": {
    "name": "ipython",
    "version": 3
   },
   "file_extension": ".py",
   "mimetype": "text/x-python",
   "name": "python",
   "nbconvert_exporter": "python",
   "pygments_lexer": "ipython3",
   "version": "3.5.2"
  }
 },
 "nbformat": 4,
 "nbformat_minor": 1
}

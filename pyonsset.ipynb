{
 "cells": [
  {
   "cell_type": "markdown",
   "metadata": {},
   "source": [
    "# Welcome to ONSSET\n",
    "\n",
    "This is the full code for the Open Source Spatial Electrification Toolkit. This page will guide you through the code, as well as the various parameters that can be set to explore any scenario of interest. The code is split up into blocks, and each one has a preceding block of text to explain it."
   ]
  },
  {
   "cell_type": "markdown",
   "metadata": {},
   "source": [
    "### Here you can choose the country of the analysis, as well as the modelling period."
   ]
  },
  {
   "cell_type": "code",
   "execution_count": null,
   "metadata": {
    "collapsed": false
   },
   "outputs": [],
   "source": [
    "country = 'Ghana'\n",
    "\n",
    "# Available options:\n",
    "# Botswana\n",
    "# Ethiopia\n",
    "# Ghana\n",
    "# Ivory Coast\n",
    "# Kenya\n",
    "# Mozambique\n",
    "# Nigeria\n",
    "# Somalia\n",
    "# Tanzania\n",
    "# Zambia\n",
    "\n",
    "START_YEAR = 2015\n",
    "END_YEAR = 2030\n",
    "\n",
    "%matplotlib inline\n",
    "from extra_funcs import *"
   ]
  },
  {
   "cell_type": "markdown",
   "metadata": {},
   "source": [
    "# Step 1 and 2. GIS data collection and processing\n",
    "\n",
    "GIS data collection and processing is a demanding and time consuming process. The necessary layers should be prepared and calibarated properly for the model to work. In this case pre-made data will be used in a form of .csv files avaialble <a href=\"https://drive.google.com/drive/folders/0B4H9lfvb9fHKUFNUUHM5UTJ6WW8\" target=\"_blank\">here</a>.\n",
    "\n",
    "You can see an example for the selected country below."
   ]
  },
  {
   "cell_type": "code",
   "execution_count": null,
   "metadata": {
    "collapsed": false
   },
   "outputs": [],
   "source": [
    "df = pd.read_csv('{}.csv'.format(country))\n",
    "display(Markdown('### A random sampling from the input file for {}'.format(country)))\n",
    "df[['Country','X','Y','Pop','GridDistPlan','NightLights','TravelHours','GHI',\n",
    "    'WindVel','Hydropower','HydropowerDist']].sample(7)"
   ]
  },
  {
   "cell_type": "markdown",
   "metadata": {},
   "source": [
    "# Step 3a. Enter country specific data (Social)\n",
    "\n",
    "These are values that vary per country. They should be changed accordingly to better reflect the selected country's current and expected development."
   ]
  },
  {
   "cell_type": "code",
   "execution_count": null,
   "metadata": {
    "collapsed": false
   },
   "outputs": [],
   "source": [
    "pop_2015 = 46000000\n",
    "pop_2030 = 65411000\n",
    "\n",
    "urban_ratio_2015 = 0.19472\n",
    "urban_ratio_2030 = 0.26808\n",
    "\n",
    "num_people_per_hh = 5"
   ]
  },
  {
   "cell_type": "markdown",
   "metadata": {},
   "source": [
    "# Step 3b. Enter country specific data (Energy Access Target)"
   ]
  },
  {
   "cell_type": "code",
   "execution_count": null,
   "metadata": {
    "collapsed": true
   },
   "outputs": [],
   "source": [
    "scenario = 900  #  in kWh/household/year (examples are 22, 224, 695, 1800, 2195)\n",
    "\n",
    "df = condition(df)\n",
    "df = grid_penalties(df)\n",
    "df = wind(df)\n",
    "df = pop(df, pop_2015, urban_ratio_2015, pop_2030, urban_ratio_2030)"
   ]
  },
  {
   "cell_type": "markdown",
   "metadata": {},
   "source": [
    "# Step 3c. Enter country specific data (Preparation - Calibration)\n",
    "The cell below contains the procedures to prepare the geospatial data and make it ready to process a scenario. This includes setting grid penalties, calculating wind capacity factors and estimating current population and electricity access a values.\n",
    "\n",
    "The most important part is to set the actual electricity access rate, and then to adjust the other parameters to let the software which settlements are electrified and which not."
   ]
  },
  {
   "cell_type": "code",
   "execution_count": null,
   "metadata": {
    "collapsed": true
   },
   "outputs": [],
   "source": [
    "elec_actual = 0.23"
   ]
  },
  {
   "cell_type": "markdown",
   "metadata": {},
   "source": [
    "Then you should set the parameters that decide whether or not a settlement is grid-connected, and run the block to see what the result is.\n",
    "\n",
    "### This will need to be repeated until a satisfactory value is reached!"
   ]
  },
  {
   "cell_type": "code",
   "execution_count": null,
   "metadata": {
    "collapsed": false
   },
   "outputs": [],
   "source": [
    "# Set the minimum night light intensity, below which it is assumed there is no electricity access.\n",
    "min_night_lights = 8\n",
    "\n",
    "# In addition to the above, one of the below conditions must be reached to consider a settlement eelctrified.\n",
    "pop_cutoff = 50000\n",
    "max_grid_dist = 10  # in km\n",
    "max_road_dist = 4  # in km\n",
    "\n",
    "df[SET_ELEC_CURRENT] = df.apply(lambda row: 1\n",
    "                                if row[SET_NIGHT_LIGHTS] > min_night_lights and\n",
    "                                    (row[SET_POP_CALIB] > pop_cutoff or\n",
    "                                    row[SET_GRID_DIST_CURRENT] < max_grid_dist or\n",
    "                                    row[SET_ROAD_DIST] < max_road_dist) else 0, axis=1)\n",
    "\n",
    "df.loc[df[SET_ELEC_CURRENT] == 1, SET_NEW_CONNECTIONS] = df[SET_POP_FUTURE] - df[SET_POP_CALIB]\n",
    "df.loc[df[SET_ELEC_CURRENT] == 0, SET_NEW_CONNECTIONS] = df[SET_POP_FUTURE]\n",
    "df.loc[df[SET_NEW_CONNECTIONS] < 0, SET_NEW_CONNECTIONS] = 0\n",
    "\n",
    "elec_modelled = df.loc[df[SET_ELEC_CURRENT] == 1, SET_POP_CALIB].sum() / pop_2015\n",
    "display(Markdown('### The modelled electrification rate is {:.2f}, compared to the actual value of {:.2f}. \\\n",
    "                 If this is acceptable, you can continue.'.format(elec_modelled, elec_actual)))\n",
    "display(Markdown('### A random sampling from the input file for {}, showing some newly calculated columns'\n",
    "                 .format(country)))\n",
    "df[['X_deg','Y_deg','Pop2030','IsUrban','Elec2015','WindCF',SET_GRID_PENALTY]].sample(5)"
   ]
  },
  {
   "cell_type": "markdown",
   "metadata": {},
   "source": [
    "# Step 3d. Enter country specific data (Technology specifications & costs)\n",
    "\n",
    "The cell below contains all the information that is used to calculate the levelised costs for all the technologies, including grid. These should be updated to reflect the most accurate values.\n",
    "\n",
    "The following values can be provided by KTH dESA, based on OSeMOSYS, the open source optimization model for long-run integrated assessment and energy planning."
   ]
  },
  {
   "cell_type": "code",
   "execution_count": null,
   "metadata": {
    "collapsed": false
   },
   "outputs": [],
   "source": [
    "grid_price = 0.063007372 # This is the grid cost electricity USD/kWh as expected in the years of the analysis\n",
    "grid_capacity_investment_cost = 1791.308066  # The cost in USD/kW to for capacity upgrades of the grid\n",
    "grid_losses = 0.193875  # The fraction of electricity lost in transmission and distribution\n",
    "base_to_peak = 0.529580937 # The ratio from peak grid demand to base demand"
   ]
  },
  {
   "cell_type": "markdown",
   "metadata": {},
   "source": [
    "This is the diesel price USD/liter as expected in the years of the analysis"
   ]
  },
  {
   "cell_type": "code",
   "execution_count": null,
   "metadata": {
    "collapsed": true
   },
   "outputs": [],
   "source": [
    "diesel_price = 0.345"
   ]
  },
  {
   "cell_type": "markdown",
   "metadata": {},
   "source": [
    "These are the capital costs in USD/kW for each different technology."
   ]
  },
  {
   "cell_type": "code",
   "execution_count": null,
   "metadata": {
    "collapsed": true
   },
   "outputs": [],
   "source": [
    "sa_diesel_capital_cost = 938\n",
    "sa_pv_capital_cost = 5500\n",
    "mg_diesel_capital_cost = 721\n",
    "mg_pv_capital_cost = 4300\n",
    "mg_wind_capital_cost = 3000\n",
    "mg_hydro_capital_cost = 5000"
   ]
  },
  {
   "cell_type": "markdown",
   "metadata": {},
   "source": [
    "# Step 4. Estimating the LCoE per technology under various demand profiles\n",
    "\n",
    "Every technology yields a different Levelized Cost for electricity production (LCoE) based on specific characteristics such as the population size and resource availability and/or cost. To illustrate, the cost of providing electricity in a low populated, isolated location (far from grid and roads) will probably be a more demanding (thus expensive) task than a high populated urban settlement. \n",
    "\n",
    "Here is an example of how the different technologies perform under the followinga assumptions:\n",
    " - Distance from the National Electricity grid: 20 km\n",
    " - Global Horizontal Irradiation: 1500 kWh/m2/year\n",
    " - Hydro Availability: Positive\n",
    " - Diesel price: 0.345 USD/liter\n",
    " \n",
    " ### Note: this block takes a bit of time"
   ]
  },
  {
   "cell_type": "code",
   "execution_count": null,
   "metadata": {
    "collapsed": false
   },
   "outputs": [],
   "source": [
    "project_life = END_YEAR - START_YEAR\n",
    "grid_lcoes = get_grid_lcoe_table(scenario, max_grid_extension_dist, num_people_per_hh, grid_losses, base_to_peak,\n",
    "                        grid_price, grid_capacity_investment_cost, project_life)\n",
    "display(Markdown('### Example of LCoE variation (in USD/kWh) per technology depending on number of people residing a settlement'))\n",
    "\n",
    "lcoe_eg_people = [10, 500, 1000, 2000, 5000, 10000]\n",
    "lcoe_eg_people_display = ['{} people'.format(p) for p in lcoe_eg_people]\n",
    "lcoe_sample = pd.DataFrame(columns=['grid', 'sa_diesel','sa_pv','mg_diesel','mg_pv','mg_wind','mg_hydro'],\n",
    "                           index=lcoe_eg_people_display)\n",
    "\n",
    "lcoe_sample['grid'] = [get_grid_lcoe(p, scenario, num_people_per_hh, False, grid_losses,\n",
    "                   base_to_peak, grid_price, grid_capacity_investment_cost, 20, project_life) for p in lcoe_eg_people]\n",
    "lcoe_sample['mg_wind'] = [get_mg_wind_lcoe(p, scenario, num_people_per_hh, False, 0.4,\n",
    "                                           mg_wind_capital_cost, project_life) for p in lcoe_eg_people]\n",
    "lcoe_sample['mg_hydro'] = [get_mg_hydro_lcoe(p, scenario, num_people_per_hh, False, 0.4,\n",
    "                                             mg_hydro_capital_cost, project_life) for p in lcoe_eg_people]\n",
    "lcoe_sample['mg_pv'] = [get_mg_pv_lcoe(p, scenario, num_people_per_hh, False, 1500,\n",
    "                                       mg_pv_capital_cost, project_life) for p in lcoe_eg_people]\n",
    "lcoe_sample['mg_diesel'] = [get_mg_diesel_lcoe(p, scenario, num_people_per_hh, False, 0.345,\n",
    "                                               mg_diesel_capital_cost, project_life) for p in lcoe_eg_people]\n",
    "lcoe_sample['sa_pv'] = [get_sa_pv_lcoe(p, scenario, num_people_per_hh, False, 1500,\n",
    "                                       sa_pv_capital_cost, project_life) for p in lcoe_eg_people]\n",
    "lcoe_sample['sa_diesel'] = [get_sa_diesel_lcoe(p, scenario, num_people_per_hh, False, 0.345,\n",
    "                                               sa_diesel_capital_cost, project_life) for p in lcoe_eg_people]\n",
    "lcoe_sample.head(10)"
   ]
  },
  {
   "cell_type": "markdown",
   "metadata": {},
   "source": [
    "# Step 5. Calculate technology costs for every settlement in the country\n",
    "\n",
    "Based on the previous calculation this piece of code identifies the LCoE that every technology can provide, for each single populated settlement of the selected country."
   ]
  },
  {
   "cell_type": "code",
   "execution_count": null,
   "metadata": {
    "collapsed": false
   },
   "outputs": [],
   "source": [
    "df = techs_only(df, diesel_price, scenario, num_people_per_hh, mg_hydro_capital_cost,\n",
    "                mg_pv_capital_cost, mg_wind_capital_cost, mg_diesel_capital_cost,\n",
    "                sa_diesel_capital_cost, sa_pv_capital_cost, END_YEAR - START_YEAR)\n",
    "display(Markdown('### A selection of LCoEs achieved for a sample of settlements'))\n",
    "df[[SET_LCOE_MG_HYDRO, SET_LCOE_MG_PV, SET_LCOE_SA_PV, SET_LCOE_MG_DIESEL, SET_LCOE_SA_DIESEL,\n",
    "    SET_LCOE_MG_WIND]].sample(7)"
   ]
  },
  {
   "cell_type": "markdown",
   "metadata": {},
   "source": [
    "# Step 6. Grid extensions - The electrification algorithm\n",
    "This cell takes all the currently grid-connected points in the country, and looks at the points within a certain distance from them, to see if it is more ecnomical to connect them to the grid, or to use one of the non-grid technologies calculate above. Once more points are connected to the grid, the process is repeated, so that new points close to those points might also be connected. This is repeated until there are no new points to connect to the grid.\n",
    "\n",
    "The onle value that needs to be entered is the additional cost paid when extending the grid, to strengthen the previous sections of grid. It is given asa ratio of the original cost of that grid section"
   ]
  },
  {
   "cell_type": "code",
   "execution_count": null,
   "metadata": {
    "collapsed": true
   },
   "outputs": [],
   "source": [
    "existing_grid_cost_ratio = 0.1"
   ]
  },
  {
   "cell_type": "markdown",
   "metadata": {},
   "source": [
    "Then this code runs the analysis."
   ]
  },
  {
   "cell_type": "code",
   "execution_count": null,
   "metadata": {
    "collapsed": false
   },
   "outputs": [],
   "source": [
    "df = run_elec(df, grid_lcoes, grid_price, existing_grid_cost_ratio, max_grid_extension_dist)\n",
    "elec2015 = df['Elec2015'].sum()\n",
    "elec2030 = df.loc[df[SET_LCOE_GRID] < 99, SET_LCOE_GRID].count()\n",
    "display(Markdown('### The algorithm found {} new settlements to connect to the grid'.format(elec2030 - elec2015)))"
   ]
  },
  {
   "cell_type": "markdown",
   "metadata": {},
   "source": [
    "# Step 7 - Results, Summaries and Visualization\n",
    "With all the calculations and grid-extensions complete, this cell gets the final results on which technology was chosen for each point, how much capacity needs to be installed and what it will cost. Then the summaries are generated, to show the overall requirements for the country. The only values that can be changed here are some capacity factor values for different technologies."
   ]
  },
  {
   "cell_type": "code",
   "execution_count": null,
   "metadata": {
    "collapsed": false,
    "scrolled": false
   },
   "outputs": [],
   "source": [
    "df = results_columns(df, scenario, base_to_peak, num_people_per_hh, diesel_price, grid_price,\n",
    "                grid_losses, grid_capacity_investment_cost, project_life)\n",
    "\n",
    "rows = []\n",
    "techs = [SET_LCOE_GRID,SET_LCOE_SA_DIESEL,SET_LCOE_SA_PV,SET_LCOE_MG_DIESEL,\n",
    "         SET_LCOE_MG_PV,SET_LCOE_MG_WIND,SET_LCOE_MG_HYDRO]\n",
    "colors = ['#73B2FF','#EDD100','#EDA800','#1F6600','#98E600','#70A800','#1FA800']\n",
    "techs_colors = dict(zip(techs, colors))\n",
    "\n",
    "rows.extend([SUM_POPULATION_PREFIX + t for t in techs])\n",
    "rows.extend([SUM_NEW_CONNECTIONS_PREFIX + t for t in techs])\n",
    "rows.extend([SUM_CAPACITY_PREFIX + t for t in techs])\n",
    "rows.extend([SUM_INVESTMENT_PREFIX + t for t in techs])\n",
    "summary = pd.Series(index=rows, name=country)\n",
    "\n",
    "for t in techs:\n",
    "    summary.loc[SUM_POPULATION_PREFIX + t] = df.loc[df[SET_MINIMUM_OVERALL] == t, SET_POP_FUTURE].sum()\n",
    "    summary.loc[SUM_NEW_CONNECTIONS_PREFIX + t] = df.loc[df[SET_MINIMUM_OVERALL] == t, SET_NEW_CONNECTIONS].sum()\n",
    "    summary.loc[SUM_CAPACITY_PREFIX + t] = df.loc[df[SET_MINIMUM_OVERALL] == t, SET_NEW_CAPACITY].sum()\n",
    "    summary.loc[SUM_INVESTMENT_PREFIX + t] = df.loc[df[SET_MINIMUM_OVERALL] == t, SET_INVESTMENT_COST].sum()\n",
    "\n",
    "display(Markdown('### Summaries  \\nThese are the summaized results for full electrification of the selected country by 2030'))\n",
    "index = techs + ['Total']\n",
    "columns = ['Population', 'New connections', 'Capacity (kW)', 'Investments (million USD)']\n",
    "summary_table = pd.DataFrame(index=index, columns=columns)\n",
    "\n",
    "summary_table[columns[0]] = summary.iloc[0:7].astype(int).tolist() + [int(summary.iloc[0:7].sum())]\n",
    "summary_table[columns[1]] = summary.iloc[7:14].astype(int).tolist() + [int(summary.iloc[7:14].sum())]\n",
    "summary_table[columns[2]] = summary.iloc[14:21].astype(int).tolist() + [int(summary.iloc[14:21].sum())]\n",
    "summary_table[columns[3]] = [round(x/1e4)/1e2 for x in summary.iloc[21:28].astype(float).tolist()] + [round(summary.iloc[21:28].sum()/1e4)/1e2]\n",
    "summary_table.head(10)"
   ]
  },
  {
   "cell_type": "code",
   "execution_count": null,
   "metadata": {
    "collapsed": false,
    "scrolled": false
   },
   "outputs": [],
   "source": [
    "summary_plot=summary_table.drop(labels='Total',axis=0)\n",
    "fig_size = [30, 30]\n",
    "font_size = 15\n",
    "plt.rcParams[\"figure.figsize\"] = fig_size\n",
    "f, axarr = plt.subplots(2, 2)\n",
    "fig_size = [30, 30]\n",
    "font_size = 15\n",
    "plt.rcParams[\"figure.figsize\"] = fig_size\n",
    "\n",
    "sns.barplot(x=summary_plot.index.tolist(), y=columns[0], data=summary_plot, ax=axarr[0, 0], palette=colors)\n",
    "axarr[0, 0].set_ylabel(columns[0], fontsize=2*font_size)\n",
    "axarr[0, 0].tick_params(labelsize=font_size)\n",
    "sns.barplot(x=summary_plot.index.tolist(), y=columns[1], data=summary_plot, ax=axarr[0, 1], palette=colors)\n",
    "axarr[0, 1].set_ylabel(columns[1], fontsize=2*font_size)\n",
    "axarr[0, 1].tick_params(labelsize=font_size)\n",
    "sns.barplot(x=summary_plot.index.tolist(), y=columns[2], data=summary_plot, ax=axarr[1, 0], palette=colors)\n",
    "axarr[1, 0].set_ylabel(columns[2], fontsize=2*font_size)\n",
    "axarr[1, 0].tick_params(labelsize=font_size)\n",
    "sns.barplot(x=summary_plot.index.tolist(), y=columns[3], data=summary_plot, ax=axarr[1, 1], palette=colors)\n",
    "axarr[1, 1].set_ylabel(columns[3], fontsize=2*font_size)\n",
    "axarr[1, 1].tick_params(labelsize=font_size)"
   ]
  },
  {
   "cell_type": "markdown",
   "metadata": {},
   "source": [
    "## Mapping of electrification results\n",
    "\n",
    "This code generates two maps:\n",
    " - one showing the spread of technologies\n",
    " - one showing the cost of electricity at each point\n",
    " \n",
    "They can be accessed using the links below."
   ]
  },
  {
   "cell_type": "code",
   "execution_count": null,
   "metadata": {
    "collapsed": false,
    "scrolled": false
   },
   "outputs": [],
   "source": [
    "x_ave = df[SET_X_DEG].mean()\n",
    "y_ave = df[SET_Y_DEG].mean()\n",
    "lcoe_ave = df[SET_MINIMUM_OVERALL_LCOE].median()\n",
    "\n",
    "map_tech = folium.Map(location=[y_ave,x_ave], zoom_start=6)\n",
    "map_lcoe = folium.Map(location=[y_ave,x_ave], zoom_start=6)\n",
    "\n",
    "for index, row in df.iterrows():\n",
    "    tech_color = techs_colors[(row[SET_MINIMUM_OVERALL])]\n",
    "    folium.CircleMarker([row[SET_Y_DEG], row[SET_X_DEG]],\n",
    "                        radius=5000,#cell_size*300*(row['LCOE']/lcoe_ave)**2,\n",
    "                        #popup='LCOE: {0:.3f} USD/kWh'.format(row['LCOE']),\n",
    "                        color=tech_color,\n",
    "                        fill_color=tech_color,\n",
    "                       ).add_to(map_tech)\n",
    "\n",
    "\n",
    "lcoe_colors = {0.1: '#edf8fb',0.2: '#ccece6',0.3: '#99d8c9',0.4: '#66c2a4',0.5: '#2ca25f',0.6: '#006d2c'}\n",
    "for index, row in df.iterrows():\n",
    "    lcoe = row[SET_MINIMUM_OVERALL_LCOE]\n",
    "    if lcoe > 0.6: lcoe = 0.6\n",
    "    lcoe_color = lcoe_colors[ceil(lcoe*10)/10]\n",
    "    folium.CircleMarker([row[SET_Y_DEG], row[SET_X_DEG]],\n",
    "                        radius=5000,#cell_size*300*(row['LCOE']/lcoe_ave)**2,\n",
    "                        #popup='LCOE: {0:.3f} USD/kWh'.format(row['LCOE']),\n",
    "                        color=lcoe_color,\n",
    "                        fill_color=lcoe_color,\n",
    "                       ).add_to(map_lcoe)\n",
    "    \n",
    "grid_lines = []\n",
    "for item in json.load(open('grid_planned.json'))['features']:\n",
    "    grid_lines.append(item['geometry']['paths'][0])\n",
    "for item in json.load(open('grid_existing.json'))['features']:\n",
    "    grid_lines.append(item['geometry']['paths'][0])\n",
    "    \n",
    "for line in grid_lines:\n",
    "    folium.PolyLine(line,\n",
    "                    color='#656464',\n",
    "                    weight=2.5,\n",
    "                    opacity=0.9,\n",
    "                    latlon=False).add_to(map_tech)\n",
    "    folium.PolyLine(line,\n",
    "                    color='#656464',\n",
    "                    weight=2.5,\n",
    "                    opacity=0.9,\n",
    "                    latlon=False).add_to(map_lcoe)\n",
    "\n",
    "map_tech_output = 'maps/map_{}{}_tech.html'.format(country, scenario)\n",
    "map_tech.save(map_tech_output)\n",
    "map_lcoe_output = 'maps/map_{}{}_lcoe.html'.format(country, scenario)\n",
    "map_lcoe.save(map_lcoe_output)\n",
    "\n",
    "display(Markdown('<a href=\"{}\" target=\"_blank\">Map of technology split</a>'.format(map_tech_output)))\n",
    "display(Markdown('Colour coding for technology split:'))\n",
    "display(HTML('<font color=\"{}\">&bull;Grid</font>&nbsp;&nbsp;&nbsp;<font color=\"{}\">&bull;SA Diesel</font>&nbsp;&nbsp;&nbsp;\\\n",
    "             <font color=\"{}\">&bull;SA PV</font>&nbsp;&nbsp;&nbsp;<font color=\"{}\">&bull;MG Diesel</font>&nbsp;&nbsp;&nbsp;\\\n",
    "             <font color=\"{}\">&bull;MG PV</font>&nbsp;&nbsp;&nbsp;<font color=\"{}\">&bull;Wind</font>&nbsp;&nbsp;&nbsp;\\\n",
    "             <font color=\"{}\">&bull;Hydro</font>'.format(techs_colors[SET_LCOE_GRID], techs_colors[SET_LCOE_SA_DIESEL],\n",
    "                                                         techs_colors[SET_LCOE_SA_PV], techs_colors[SET_LCOE_MG_DIESEL],\n",
    "                                                         techs_colors[SET_LCOE_MG_PV], techs_colors[SET_LCOE_MG_WIND],\n",
    "                                                         techs_colors[SET_LCOE_MG_HYDRO])))\n",
    "\n",
    "display(Markdown('<a href=\"{}\" target=\"_blank\">Map of electricity cost</a>'.format(map_lcoe_output)))\n",
    "display(Markdown('Colour coding for LCOE, in USD/kWh'))\n",
    "cm.LinearColormap(['#edf8fb','#ccece6','#99d8c9','#66c2a4','#2ca25f','#006d2c'],\n",
    "                  index=[0.1, 0.2, 0.3, 0.4, 0.5, 0.6], vmin=0, vmax=0.6)"
   ]
  },
  {
   "cell_type": "code",
   "execution_count": null,
   "metadata": {
    "collapsed": true
   },
   "outputs": [],
   "source": []
  }
 ],
 "metadata": {
  "anaconda-cloud": {},
  "kernelspec": {
   "display_name": "Python 3",
   "language": "python",
   "name": "python3"
  },
  "language_info": {
   "codemirror_mode": {
    "name": "ipython",
    "version": 3
   },
   "file_extension": ".py",
   "mimetype": "text/x-python",
   "name": "python",
   "nbconvert_exporter": "python",
   "pygments_lexer": "ipython3",
   "version": "3.5.2"
  }
 },
 "nbformat": 4,
 "nbformat_minor": 1
}

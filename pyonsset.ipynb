{
 "cells": [
  {
   "cell_type": "markdown",
   "metadata": {},
   "source": [
    "# Welcome to OnSSET Jupyter Interface¶\n",
    "\n",
    "This page will guide you through the a simplified version of the OnSSET code, as well as the various parameters that can be set to generate any scenario of interest. The code is split up into blocks indicating main steps of the electrification analysis. Thus the blocks shall be executed sequesntially.\n",
    "\n",
    "Note! Online vizualization does not work if tool runs offline."
   ]
  },
  {
   "cell_type": "markdown",
   "metadata": {},
   "source": [
    "### Here you can choose the country of the analysis, as well as the modelling period."
   ]
  },
  {
   "cell_type": "code",
   "execution_count": 8,
   "metadata": {},
   "outputs": [
    {
     "name": "stderr",
     "output_type": "stream",
     "text": [
      "2019-02-25 17:44:16,647\t\tbackend module://ipykernel.pylab.backend_inline version unknown\n"
     ]
    }
   ],
   "source": [
    "country = 'Malawi'\n",
    "\n",
    "#Dependencies\n",
    "from IPython.display import display, Markdown, HTML\n",
    "import seaborn as sns\n",
    "import matplotlib.pylab as plt\n",
    "import folium\n",
    "import branca.colormap as cm\n",
    "import json\n",
    "%matplotlib inline\n",
    "%run onsset.py"
   ]
  },
  {
   "cell_type": "markdown",
   "metadata": {},
   "source": [
    "# Step 1 and 2. GIS data collection and processing\n",
    "\n",
    "GIS data collection and processing is a demanding and time consuming process. The necessary layers should be prepared and calibarated properly for the model to work. In this case pre-made data will be used in a form of .csv files avaialble <a href=\"https://drive.google.com/drive/folders/0B4H9lfvb9fHKUFNUUHM5UTJ6WW8\" target=\"_blank\">here</a>.\n",
    "\n",
    "You can see an example for the selected country below."
   ]
  },
  {
   "cell_type": "code",
   "execution_count": 9,
   "metadata": {},
   "outputs": [
    {
     "data": {
      "text/markdown": [
       "### A random sampling from the input file for Malawi"
      ],
      "text/plain": [
       "<IPython.core.display.Markdown object>"
      ]
     },
     "metadata": {},
     "output_type": "display_data"
    },
    {
     "data": {
      "text/html": [
       "<div>\n",
       "<style scoped>\n",
       "    .dataframe tbody tr th:only-of-type {\n",
       "        vertical-align: middle;\n",
       "    }\n",
       "\n",
       "    .dataframe tbody tr th {\n",
       "        vertical-align: top;\n",
       "    }\n",
       "\n",
       "    .dataframe thead th {\n",
       "        text-align: right;\n",
       "    }\n",
       "</style>\n",
       "<table border=\"1\" class=\"dataframe\">\n",
       "  <thead>\n",
       "    <tr style=\"text-align: right;\">\n",
       "      <th></th>\n",
       "      <th>Country</th>\n",
       "      <th>X</th>\n",
       "      <th>Y</th>\n",
       "      <th>Pop</th>\n",
       "      <th>GridDistPlan</th>\n",
       "      <th>NightLights</th>\n",
       "      <th>TravelHours</th>\n",
       "      <th>GHI</th>\n",
       "      <th>WindVel</th>\n",
       "      <th>Hydropower</th>\n",
       "      <th>HydropowerDist</th>\n",
       "    </tr>\n",
       "  </thead>\n",
       "  <tbody>\n",
       "    <tr>\n",
       "      <th>1187</th>\n",
       "      <td>Malawi</td>\n",
       "      <td>3770.460355</td>\n",
       "      <td>-1091.749563</td>\n",
       "      <td>31838.648438</td>\n",
       "      <td>227.600149</td>\n",
       "      <td>0.0</td>\n",
       "      <td>1.500000</td>\n",
       "      <td>2185.0</td>\n",
       "      <td>5.805355</td>\n",
       "      <td>120.680</td>\n",
       "      <td>5.685257</td>\n",
       "    </tr>\n",
       "    <tr>\n",
       "      <th>1054</th>\n",
       "      <td>Malawi</td>\n",
       "      <td>3724.085719</td>\n",
       "      <td>-1222.917895</td>\n",
       "      <td>0.054188</td>\n",
       "      <td>123.248289</td>\n",
       "      <td>0.0</td>\n",
       "      <td>3.166667</td>\n",
       "      <td>2133.0</td>\n",
       "      <td>4.118885</td>\n",
       "      <td>935.759</td>\n",
       "      <td>22.520510</td>\n",
       "    </tr>\n",
       "    <tr>\n",
       "      <th>15</th>\n",
       "      <td>Malawi</td>\n",
       "      <td>3900.309337</td>\n",
       "      <td>-1868.622392</td>\n",
       "      <td>610.160584</td>\n",
       "      <td>32.336386</td>\n",
       "      <td>0.0</td>\n",
       "      <td>1.600000</td>\n",
       "      <td>1966.0</td>\n",
       "      <td>3.978755</td>\n",
       "      <td>110.360</td>\n",
       "      <td>60.399920</td>\n",
       "    </tr>\n",
       "    <tr>\n",
       "      <th>77</th>\n",
       "      <td>Malawi</td>\n",
       "      <td>3937.409046</td>\n",
       "      <td>-1801.373479</td>\n",
       "      <td>42662.453125</td>\n",
       "      <td>50.146714</td>\n",
       "      <td>0.0</td>\n",
       "      <td>0.883333</td>\n",
       "      <td>1970.0</td>\n",
       "      <td>4.176636</td>\n",
       "      <td>4502.930</td>\n",
       "      <td>4.585369</td>\n",
       "    </tr>\n",
       "    <tr>\n",
       "      <th>707</th>\n",
       "      <td>Malawi</td>\n",
       "      <td>3807.560064</td>\n",
       "      <td>-1486.893743</td>\n",
       "      <td>5451.588379</td>\n",
       "      <td>5.880335</td>\n",
       "      <td>0.0</td>\n",
       "      <td>2.633333</td>\n",
       "      <td>2097.0</td>\n",
       "      <td>3.971681</td>\n",
       "      <td>101.749</td>\n",
       "      <td>54.872110</td>\n",
       "    </tr>\n",
       "    <tr>\n",
       "      <th>396</th>\n",
       "      <td>Malawi</td>\n",
       "      <td>3807.560064</td>\n",
       "      <td>-1610.304654</td>\n",
       "      <td>15454.870117</td>\n",
       "      <td>26.228366</td>\n",
       "      <td>0.0</td>\n",
       "      <td>0.800000</td>\n",
       "      <td>2003.0</td>\n",
       "      <td>4.625895</td>\n",
       "      <td>404.855</td>\n",
       "      <td>35.558018</td>\n",
       "    </tr>\n",
       "    <tr>\n",
       "      <th>967</th>\n",
       "      <td>Malawi</td>\n",
       "      <td>3733.360646</td>\n",
       "      <td>-1288.695754</td>\n",
       "      <td>8270.805664</td>\n",
       "      <td>73.092435</td>\n",
       "      <td>0.0</td>\n",
       "      <td>1.666667</td>\n",
       "      <td>2111.0</td>\n",
       "      <td>4.408803</td>\n",
       "      <td>333.167</td>\n",
       "      <td>24.560598</td>\n",
       "    </tr>\n",
       "  </tbody>\n",
       "</table>\n",
       "</div>"
      ],
      "text/plain": [
       "     Country            X            Y           Pop  GridDistPlan  \\\n",
       "1187  Malawi  3770.460355 -1091.749563  31838.648438    227.600149   \n",
       "1054  Malawi  3724.085719 -1222.917895      0.054188    123.248289   \n",
       "15    Malawi  3900.309337 -1868.622392    610.160584     32.336386   \n",
       "77    Malawi  3937.409046 -1801.373479  42662.453125     50.146714   \n",
       "707   Malawi  3807.560064 -1486.893743   5451.588379      5.880335   \n",
       "396   Malawi  3807.560064 -1610.304654  15454.870117     26.228366   \n",
       "967   Malawi  3733.360646 -1288.695754   8270.805664     73.092435   \n",
       "\n",
       "      NightLights  TravelHours     GHI   WindVel  Hydropower  HydropowerDist  \n",
       "1187          0.0     1.500000  2185.0  5.805355     120.680        5.685257  \n",
       "1054          0.0     3.166667  2133.0  4.118885     935.759       22.520510  \n",
       "15            0.0     1.600000  1966.0  3.978755     110.360       60.399920  \n",
       "77            0.0     0.883333  1970.0  4.176636    4502.930        4.585369  \n",
       "707           0.0     2.633333  2097.0  3.971681     101.749       54.872110  \n",
       "396           0.0     0.800000  2003.0  4.625895     404.855       35.558018  \n",
       "967           0.0     1.666667  2111.0  4.408803     333.167       24.560598  "
      ]
     },
     "execution_count": 9,
     "metadata": {},
     "output_type": "execute_result"
    }
   ],
   "source": [
    "o = SettlementProcessor('{}.csv'.format(country))\n",
    "\n",
    "display(Markdown('### A random sampling from the input file for {}'.format(country)))\n",
    "o.df[['Country','X','Y','Pop','GridDistPlan','NightLights','TravelHours','GHI',\n",
    "    'WindVel','Hydropower','HydropowerDist']].sample(7)"
   ]
  },
  {
   "cell_type": "markdown",
   "metadata": {},
   "source": [
    "# Step 3a. Enter country specific data (Social)\n",
    "\n",
    "These are values that vary per country. They should be changed accordingly to better reflect the selected country's current and expected development."
   ]
  },
  {
   "cell_type": "code",
   "execution_count": 10,
   "metadata": {},
   "outputs": [],
   "source": [
    "pop_actual = 17000000\n",
    "pop_future = 26000000\n",
    "\n",
    "urban_current = 0.574966829\n",
    "urban_future = 0.633673829\n",
    "\n",
    "num_people_per_hh_rural = 4.6\n",
    "num_people_per_hh_urban = 4.4"
   ]
  },
  {
   "cell_type": "markdown",
   "metadata": {},
   "source": [
    "# Step 3b. Enter country specific data (Energy Access Target)"
   ]
  },
  {
   "cell_type": "code",
   "execution_count": 11,
   "metadata": {},
   "outputs": [
    {
     "name": "stderr",
     "output_type": "stream",
     "text": [
      "2019-02-25 17:44:27,634\t\tEnsure that columns that are supposed to be numeric are numeric\n",
      "2019-02-25 17:44:27,641\t\tReplace null values with zero\n",
      "2019-02-25 17:44:27,642\t\tSort by country, Y and X\n",
      "2019-02-25 17:44:27,654\t\tAdd columns with location in degrees\n",
      "2019-02-25 17:44:27,744\t\tClassify road dist\n",
      "2019-02-25 17:44:27,776\t\tClassify substation dist\n",
      "2019-02-25 17:44:27,800\t\tClassify land cover\n",
      "2019-02-25 17:44:27,829\t\tClassify elevation\n",
      "2019-02-25 17:44:27,859\t\tClassify slope\n",
      "2019-02-25 17:44:27,887\t\tCombined classification\n",
      "2019-02-25 17:44:27,909\t\tGrid penalty\n",
      "2019-02-25 17:44:27,942\t\tCalculate Wind CF\n",
      "2019-02-25 17:44:28,014\t\tCalibrate current population\n",
      "2019-02-25 17:44:28,042\t\tCalibrate urban split\n",
      "2019-02-25 17:44:28,197\t\tNOT SATISFIED: repeating myself\n",
      "2019-02-25 17:44:28,199\t\tProject future population\n"
     ]
    }
   ],
   "source": [
    "energy_per_hh_rural = 50  #  in kWh/household/year (examples are 22, 224, 695, 1800, 2195)\n",
    "energy_per_hh_urban = 1200\n",
    "\n",
    "o.condition_df()\n",
    "o.grid_penalties()\n",
    "o.calc_wind_cfs()\n",
    "\n",
    "ignore = o.calibrate_pop_and_urban(pop_actual, pop_future, urban_current, urban_future, 100)"
   ]
  },
  {
   "cell_type": "markdown",
   "metadata": {},
   "source": [
    "# Step 3c. Enter country specific data (Preparation - Calibration)\n",
    "The cell below contains the procedures to prepare the geospatial data and make it ready to process a scenario. This includes setting grid penalties, calculating wind capacity factors and estimating current population and electricity access a values.\n",
    "\n",
    "The most important part is to set the actual electricity access rate, and then to adjust the other parameters to let the software which settlements are electrified and which not."
   ]
  },
  {
   "cell_type": "code",
   "execution_count": 12,
   "metadata": {},
   "outputs": [],
   "source": [
    "elec_actual = 0.11"
   ]
  },
  {
   "cell_type": "markdown",
   "metadata": {},
   "source": [
    "Then you should set the parameters that decide whether or not a settlement is grid-connected, and run the block to see what the result is.\n",
    "\n",
    "### This will need to be repeated until a satisfactory value is reached!"
   ]
  },
  {
   "cell_type": "code",
   "execution_count": 13,
   "metadata": {},
   "outputs": [
    {
     "data": {
      "text/markdown": [
       "### The modelled electrification rate is 0.09, compared to the actual value of 0.11.                  If this is acceptable, you can continue."
      ],
      "text/plain": [
       "<IPython.core.display.Markdown object>"
      ]
     },
     "metadata": {},
     "output_type": "display_data"
    },
    {
     "data": {
      "text/markdown": [
       "### A random sampling from the input file for Malawi, showing some newly calculated columns"
      ],
      "text/plain": [
       "<IPython.core.display.Markdown object>"
      ]
     },
     "metadata": {},
     "output_type": "display_data"
    },
    {
     "data": {
      "text/html": [
       "<div>\n",
       "<style scoped>\n",
       "    .dataframe tbody tr th:only-of-type {\n",
       "        vertical-align: middle;\n",
       "    }\n",
       "\n",
       "    .dataframe tbody tr th {\n",
       "        vertical-align: top;\n",
       "    }\n",
       "\n",
       "    .dataframe thead th {\n",
       "        text-align: right;\n",
       "    }\n",
       "</style>\n",
       "<table border=\"1\" class=\"dataframe\">\n",
       "  <thead>\n",
       "    <tr style=\"text-align: right;\">\n",
       "      <th></th>\n",
       "      <th>X_deg</th>\n",
       "      <th>Y_deg</th>\n",
       "      <th>PopFuture</th>\n",
       "      <th>IsUrban</th>\n",
       "      <th>ElecStart</th>\n",
       "      <th>WindCF</th>\n",
       "      <th>GridPenalty</th>\n",
       "    </tr>\n",
       "  </thead>\n",
       "  <tbody>\n",
       "    <tr>\n",
       "      <th>530</th>\n",
       "      <td>33.037441</td>\n",
       "      <td>-13.906892</td>\n",
       "      <td>25876.335387</td>\n",
       "      <td>1</td>\n",
       "      <td>0</td>\n",
       "      <td>0.056590</td>\n",
       "      <td>1.160987</td>\n",
       "    </tr>\n",
       "    <tr>\n",
       "      <th>370</th>\n",
       "      <td>35.703620</td>\n",
       "      <td>-14.573437</td>\n",
       "      <td>12224.793273</td>\n",
       "      <td>0</td>\n",
       "      <td>0</td>\n",
       "      <td>0.025603</td>\n",
       "      <td>1.050618</td>\n",
       "    </tr>\n",
       "    <tr>\n",
       "      <th>869</th>\n",
       "      <td>33.953940</td>\n",
       "      <td>-12.407167</td>\n",
       "      <td>701.921439</td>\n",
       "      <td>0</td>\n",
       "      <td>0</td>\n",
       "      <td>0.016889</td>\n",
       "      <td>1.053249</td>\n",
       "    </tr>\n",
       "    <tr>\n",
       "      <th>544</th>\n",
       "      <td>34.203894</td>\n",
       "      <td>-13.906892</td>\n",
       "      <td>6261.902592</td>\n",
       "      <td>0</td>\n",
       "      <td>0</td>\n",
       "      <td>0.006399</td>\n",
       "      <td>1.055995</td>\n",
       "    </tr>\n",
       "    <tr>\n",
       "      <th>585</th>\n",
       "      <td>33.620667</td>\n",
       "      <td>-13.740256</td>\n",
       "      <td>47938.198770</td>\n",
       "      <td>1</td>\n",
       "      <td>0</td>\n",
       "      <td>0.054987</td>\n",
       "      <td>1.147053</td>\n",
       "    </tr>\n",
       "  </tbody>\n",
       "</table>\n",
       "</div>"
      ],
      "text/plain": [
       "         X_deg      Y_deg     PopFuture  IsUrban  ElecStart    WindCF  \\\n",
       "530  33.037441 -13.906892  25876.335387        1          0  0.056590   \n",
       "370  35.703620 -14.573437  12224.793273        0          0  0.025603   \n",
       "869  33.953940 -12.407167    701.921439        0          0  0.016889   \n",
       "544  34.203894 -13.906892   6261.902592        0          0  0.006399   \n",
       "585  33.620667 -13.740256  47938.198770        1          0  0.054987   \n",
       "\n",
       "     GridPenalty  \n",
       "530     1.160987  \n",
       "370     1.050618  \n",
       "869     1.053249  \n",
       "544     1.055995  \n",
       "585     1.147053  "
      ]
     },
     "execution_count": 13,
     "metadata": {},
     "output_type": "execute_result"
    }
   ],
   "source": [
    "# Set the minimum night light intensity, below which it is assumed there is no electricity access.\n",
    "min_night_lights = 10\n",
    "\n",
    "# In addition to the above, one of the below conditions must be reached to consider a settlement eelctrified.\n",
    "pop_cutoff = 10000\n",
    "max_grid_dist = 10  # in km\n",
    "max_road_dist = 5  # in km\n",
    "\n",
    "o.df[SET_ELEC_CURRENT] = o.df.apply(lambda row: 1\n",
    "                                if row[SET_NIGHT_LIGHTS] > min_night_lights and\n",
    "                                    (row[SET_POP_CALIB] > pop_cutoff or\n",
    "                                    row[SET_GRID_DIST_CURRENT] < max_grid_dist or\n",
    "                                    row[SET_ROAD_DIST] < max_road_dist) else 0, axis=1)\n",
    "\n",
    "o.df.loc[o.df[SET_ELEC_CURRENT] == 1, SET_NEW_CONNECTIONS] = o.df[SET_POP_FUTURE] - o.df[SET_POP_CALIB]\n",
    "o.df.loc[o.df[SET_ELEC_CURRENT] == 0, SET_NEW_CONNECTIONS] = o.df[SET_POP_FUTURE]\n",
    "o.df.loc[o.df[SET_NEW_CONNECTIONS] < 0, SET_NEW_CONNECTIONS] = 0\n",
    "\n",
    "elec_modelled = o.df.loc[o.df[SET_ELEC_CURRENT] == 1, SET_POP_CALIB].sum() / pop_actual\n",
    "display(Markdown('### The modelled electrification rate is {:.2f}, compared to the actual value of {:.2f}. \\\n",
    "                 If this is acceptable, you can continue.'.format(elec_modelled, elec_actual)))\n",
    "display(Markdown('### A random sampling from the input file for {}, showing some newly calculated columns'\n",
    "                 .format(country)))\n",
    "o.df[[SET_X_DEG,SET_Y_DEG, SET_POP_FUTURE, SET_URBAN, SET_ELEC_CURRENT, SET_WINDCF, SET_GRID_PENALTY]].sample(5)"
   ]
  },
  {
   "cell_type": "markdown",
   "metadata": {},
   "source": [
    "# Step 3d. Enter country specific data (Technology specifications & costs)\n",
    "\n",
    "The cell below contains all the information that is used to calculate the levelised costs for all the technologies, including grid. These should be updated to reflect the most accurate values.\n",
    "\n",
    "The following values can be provided by KTH dESA, based on OSeMOSYS, the open source optimization model for long-run integrated assessment and energy planning."
   ]
  },
  {
   "cell_type": "markdown",
   "metadata": {},
   "source": [
    "These are the general parameters for calculating LCOE for all technologies:"
   ]
  },
  {
   "cell_type": "code",
   "execution_count": 14,
   "metadata": {},
   "outputs": [],
   "source": [
    "Technology.set_default_values(start_year=2015,\n",
    "                              end_year=2030,\n",
    "                              discount_rate=0.08,\n",
    "                              grid_cell_area=1,\n",
    "                              mv_line_cost=9000,\n",
    "                              lv_line_cost=5000,\n",
    "                              mv_line_capacity=50,\n",
    "                              lv_line_capacity=10,\n",
    "                              lv_line_max_length=30,\n",
    "                              hv_line_cost=53000,\n",
    "                              mv_line_max_length=50,\n",
    "                              hv_lv_transformer_cost=5000,\n",
    "                              mv_increase_rate=0.1)"
   ]
  },
  {
   "cell_type": "markdown",
   "metadata": {},
   "source": [
    "These are the technology parameters for extending the grid:"
   ]
  },
  {
   "cell_type": "code",
   "execution_count": 15,
   "metadata": {},
   "outputs": [],
   "source": [
    "max_grid_extension_dist = 50\n",
    "grid_price = 0.05\n",
    "\n",
    "grid_calc = Technology(om_of_td_lines=0.03,\n",
    "                       distribution_losses=0.1,\n",
    "                       connection_cost_per_hh=125,\n",
    "                       base_to_peak_load_ratio=0.5,\n",
    "                       capacity_factor=1,\n",
    "                       tech_life=30,\n",
    "                       grid_capacity_investment=2000,\n",
    "                       grid_price=grid_price)"
   ]
  },
  {
   "cell_type": "markdown",
   "metadata": {},
   "source": [
    "These are the technology parameters for the diesel technologies:"
   ]
  },
  {
   "cell_type": "code",
   "execution_count": 16,
   "metadata": {},
   "outputs": [],
   "source": [
    "diesel_price = 0.5\n",
    "\n",
    "mg_diesel_calc = Technology(om_of_td_lines=0.03,\n",
    "                            distribution_losses=0.05,\n",
    "                            connection_cost_per_hh=100,\n",
    "                            base_to_peak_load_ratio=0.5,\n",
    "                            capacity_factor=0.7,\n",
    "                            tech_life=15,\n",
    "                            om_costs=0.1,\n",
    "                            efficiency=0.33,\n",
    "                            capital_cost=721,\n",
    "                            diesel_price=diesel_price,\n",
    "                            diesel_truck_consumption=33.7,\n",
    "                            diesel_truck_volume=15000)\n",
    "\n",
    "sa_diesel_calc = Technology(base_to_peak_load_ratio=0.5,\n",
    "                            capacity_factor=0.7,\n",
    "                            tech_life=10,\n",
    "                            om_costs=0.1,\n",
    "                            capital_cost=938,\n",
    "                            diesel_price=diesel_price,\n",
    "                            standalone=True,\n",
    "                            efficiency=0.28,\n",
    "                            diesel_truck_consumption=14,\n",
    "                            diesel_truck_volume=300)"
   ]
  },
  {
   "cell_type": "markdown",
   "metadata": {},
   "source": [
    "These are the technology parameters for PV:"
   ]
  },
  {
   "cell_type": "code",
   "execution_count": 17,
   "metadata": {},
   "outputs": [],
   "source": [
    "mg_pv_calc = Technology(om_of_td_lines=0.03,\n",
    "                        distribution_losses=0.05,\n",
    "                        connection_cost_per_hh=100,\n",
    "                        base_to_peak_load_ratio=0.9,\n",
    "                        tech_life=20,\n",
    "                        om_costs=0.015,\n",
    "                        capital_cost=4300)\n",
    "\n",
    "sa_pv_calc = Technology(base_to_peak_load_ratio=0.9,\n",
    "                        tech_life=15,\n",
    "                        om_costs=0.012,\n",
    "                        capital_cost=5500,\n",
    "                        standalone=True)"
   ]
  },
  {
   "cell_type": "markdown",
   "metadata": {},
   "source": [
    "These are the technology parameters for hydro and wind:"
   ]
  },
  {
   "cell_type": "code",
   "execution_count": 18,
   "metadata": {},
   "outputs": [],
   "source": [
    "mg_hydro_calc = Technology(om_of_td_lines=0.03,\n",
    "                           distribution_losses=0.05,\n",
    "                           connection_cost_per_hh=100,\n",
    "                           base_to_peak_load_ratio=1,\n",
    "                           capacity_factor=0.5,\n",
    "                           tech_life=30,\n",
    "                           capital_cost=5000,\n",
    "                           om_costs=0.02)\n",
    "\n",
    "mg_wind_calc = Technology(om_of_td_lines=0.03,\n",
    "                          distribution_losses=0.05,\n",
    "                          connection_cost_per_hh=100,\n",
    "                          base_to_peak_load_ratio=0.75,\n",
    "                          capital_cost=3000,\n",
    "                          om_costs=0.02,\n",
    "                          tech_life=20)"
   ]
  },
  {
   "cell_type": "markdown",
   "metadata": {},
   "source": [
    "# Step 4. Estimating the LCoE per technology under various demand profiles\n",
    "\n",
    "Every technology yields a different Levelized Cost for electricity production (LCoE) based on specific characteristics such as the population size and resource availability and/or cost. To illustrate, the cost of providing electricity in a low populated, isolated location (far from grid and roads) will probably be a more demanding (thus expensive) task than a high populated urban settlement. \n",
    "\n",
    "Here is an example of how the different technologies perform under the followinga assumptions:\n",
    " - Distance from the National Electricity grid: 20 km\n",
    " - Global Horizontal Irradiation: 1500 kWh/m2/year\n",
    " - Hydro Availability: Positive\n",
    " - Diesel price: 0.345 USD/liter\n",
    " \n",
    " ### Note: this block takes a bit of time"
   ]
  },
  {
   "cell_type": "code",
   "execution_count": 19,
   "metadata": {},
   "outputs": [
    {
     "name": "stderr",
     "output_type": "stream",
     "text": [
      "2019-02-25 17:44:43,291\t\tCreating a grid table for 50 kWh/hh/year\n",
      "2019-02-25 17:45:07,065\t\tCreating a grid table for 1200 kWh/hh/year\n"
     ]
    },
    {
     "data": {
      "text/markdown": [
       "### Example of LCoE variation (in USD/kWh) per technology depending on number of people residing a settlement"
      ],
      "text/plain": [
       "<IPython.core.display.Markdown object>"
      ]
     },
     "metadata": {},
     "output_type": "display_data"
    },
    {
     "data": {
      "text/html": [
       "<div>\n",
       "<style scoped>\n",
       "    .dataframe tbody tr th:only-of-type {\n",
       "        vertical-align: middle;\n",
       "    }\n",
       "\n",
       "    .dataframe tbody tr th {\n",
       "        vertical-align: top;\n",
       "    }\n",
       "\n",
       "    .dataframe thead th {\n",
       "        text-align: right;\n",
       "    }\n",
       "</style>\n",
       "<table border=\"1\" class=\"dataframe\">\n",
       "  <thead>\n",
       "    <tr style=\"text-align: right;\">\n",
       "      <th></th>\n",
       "      <th>grid</th>\n",
       "      <th>sa_diesel</th>\n",
       "      <th>sa_pv</th>\n",
       "      <th>mg_diesel</th>\n",
       "      <th>mg_pv</th>\n",
       "      <th>mg_wind</th>\n",
       "      <th>mg_hydro</th>\n",
       "    </tr>\n",
       "  </thead>\n",
       "  <tbody>\n",
       "    <tr>\n",
       "      <th>10 people</th>\n",
       "      <td>10.866421</td>\n",
       "      <td>0.425737</td>\n",
       "      <td>0.543061</td>\n",
       "      <td>0.504789</td>\n",
       "      <td>0.674758</td>\n",
       "      <td>0.423024</td>\n",
       "      <td>2.033645</td>\n",
       "    </tr>\n",
       "    <tr>\n",
       "      <th>500 people</th>\n",
       "      <td>0.339952</td>\n",
       "      <td>0.425737</td>\n",
       "      <td>0.543061</td>\n",
       "      <td>0.263069</td>\n",
       "      <td>0.449533</td>\n",
       "      <td>0.197799</td>\n",
       "      <td>0.215325</td>\n",
       "    </tr>\n",
       "    <tr>\n",
       "      <th>1000 people</th>\n",
       "      <td>0.220675</td>\n",
       "      <td>0.425737</td>\n",
       "      <td>0.543061</td>\n",
       "      <td>0.251407</td>\n",
       "      <td>0.438667</td>\n",
       "      <td>0.186933</td>\n",
       "      <td>0.188831</td>\n",
       "    </tr>\n",
       "    <tr>\n",
       "      <th>2000 people</th>\n",
       "      <td>0.157943</td>\n",
       "      <td>0.425737</td>\n",
       "      <td>0.543061</td>\n",
       "      <td>0.243161</td>\n",
       "      <td>0.430984</td>\n",
       "      <td>0.179250</td>\n",
       "      <td>0.173498</td>\n",
       "    </tr>\n",
       "    <tr>\n",
       "      <th>5000 people</th>\n",
       "      <td>0.117267</td>\n",
       "      <td>0.425737</td>\n",
       "      <td>0.543061</td>\n",
       "      <td>0.235844</td>\n",
       "      <td>0.424166</td>\n",
       "      <td>0.172432</td>\n",
       "      <td>0.162253</td>\n",
       "    </tr>\n",
       "    <tr>\n",
       "      <th>10000 people</th>\n",
       "      <td>0.102109</td>\n",
       "      <td>0.425737</td>\n",
       "      <td>0.543061</td>\n",
       "      <td>0.232157</td>\n",
       "      <td>0.420730</td>\n",
       "      <td>0.168996</td>\n",
       "      <td>0.157426</td>\n",
       "    </tr>\n",
       "  </tbody>\n",
       "</table>\n",
       "</div>"
      ],
      "text/plain": [
       "                   grid  sa_diesel     sa_pv  mg_diesel     mg_pv   mg_wind  \\\n",
       "10 people     10.866421   0.425737  0.543061   0.504789  0.674758  0.423024   \n",
       "500 people     0.339952   0.425737  0.543061   0.263069  0.449533  0.197799   \n",
       "1000 people    0.220675   0.425737  0.543061   0.251407  0.438667  0.186933   \n",
       "2000 people    0.157943   0.425737  0.543061   0.243161  0.430984  0.179250   \n",
       "5000 people    0.117267   0.425737  0.543061   0.235844  0.424166  0.172432   \n",
       "10000 people   0.102109   0.425737  0.543061   0.232157  0.420730  0.168996   \n",
       "\n",
       "              mg_hydro  \n",
       "10 people     2.033645  \n",
       "500 people    0.215325  \n",
       "1000 people   0.188831  \n",
       "2000 people   0.173498  \n",
       "5000 people   0.162253  \n",
       "10000 people  0.157426  "
      ]
     },
     "execution_count": 19,
     "metadata": {},
     "output_type": "execute_result"
    }
   ],
   "source": [
    "grid_lcoes_rural = grid_calc.get_grid_table(energy_per_hh_rural, num_people_per_hh_rural, max_grid_extension_dist)\n",
    "grid_lcoes_urban = grid_calc.get_grid_table(energy_per_hh_urban, num_people_per_hh_urban, max_grid_extension_dist)\n",
    "display(Markdown('### Example of LCoE variation (in USD/kWh) per technology depending on number of people residing a settlement'))\n",
    "\n",
    "lcoe_eg_people = [10, 500, 1000, 2000, 5000, 10000]\n",
    "lcoe_eg_people_display = ['{} people'.format(p) for p in lcoe_eg_people]\n",
    "lcoe_sample = pd.DataFrame(columns=['grid', 'sa_diesel','sa_pv','mg_diesel','mg_pv','mg_wind','mg_hydro'],\n",
    "                           index=lcoe_eg_people_display)\n",
    "\n",
    "lcoe_sample['grid'] = [grid_calc.get_lcoe(energy_per_hh_urban, p, num_people_per_hh_urban,\n",
    "                                          additional_mv_line_length=20) for p in lcoe_eg_people]\n",
    "lcoe_sample['mg_wind'] = [mg_wind_calc.get_lcoe(energy_per_hh_urban, p, num_people_per_hh_urban,\n",
    "                                                capacity_factor = 0.4) for p in lcoe_eg_people]\n",
    "lcoe_sample['mg_hydro'] = [mg_hydro_calc.get_lcoe(energy_per_hh_urban, p, num_people_per_hh_urban,\n",
    "                                                  mv_line_length=4) for p in lcoe_eg_people]\n",
    "lcoe_sample['mg_pv'] = [mg_pv_calc.get_lcoe(energy_per_hh_urban, p, num_people_per_hh_urban,\n",
    "                                            capacity_factor = 1500/8760) for p in lcoe_eg_people]\n",
    "lcoe_sample['sa_pv'] = [sa_pv_calc.get_lcoe(energy_per_hh_urban, p, num_people_per_hh_urban,\n",
    "                                            capacity_factor = 1500/8760) for p in lcoe_eg_people]\n",
    "lcoe_sample['mg_diesel'] = [mg_diesel_calc.get_lcoe(energy_per_hh_urban, p, num_people_per_hh_urban,\n",
    "                                                    travel_hours=10) for p in lcoe_eg_people]\n",
    "lcoe_sample['sa_diesel'] = [sa_diesel_calc.get_lcoe(energy_per_hh_urban, p, num_people_per_hh_urban,\n",
    "                                                    travel_hours=10) for p in lcoe_eg_people]\n",
    "lcoe_sample.head(10)"
   ]
  },
  {
   "cell_type": "markdown",
   "metadata": {},
   "source": [
    "# Step 5. Calculate technology costs for every settlement in the country\n",
    "\n",
    "Based on the previous calculation this piece of code identifies the LCoE that every technology can provide, for each single populated settlement of the selected country."
   ]
  },
  {
   "cell_type": "code",
   "execution_count": 20,
   "metadata": {},
   "outputs": [
    {
     "name": "stderr",
     "output_type": "stream",
     "text": [
      "2019-02-25 17:46:18,594\t\tSetting electrification targets\n",
      "2019-02-25 17:46:18,659\t\tCalculate minigrid hydro LCOE\n",
      "2019-02-25 17:46:18,710\t\t18 potential hydropower sites were utilised to maximum capacity\n",
      "2019-02-25 17:46:18,710\t\tCalculate minigrid PV LCOE\n",
      "2019-02-25 17:46:18,850\t\tCalculate minigrid wind LCOE\n",
      "2019-02-25 17:46:18,889\t\tCalculate minigrid diesel LCOE\n",
      "2019-02-25 17:46:19,025\t\tCalculate standalone diesel LCOE\n",
      "2019-02-25 17:46:19,157\t\tCalculate standalone PV LCOE\n",
      "2019-02-25 17:46:19,301\t\tDetermine minimum technology (no grid)\n",
      "2019-02-25 17:46:19,306\t\tDetermine minimum tech LCOE\n"
     ]
    },
    {
     "data": {
      "text/markdown": [
       "### A selection of LCoEs achieved for a sample of settlements"
      ],
      "text/plain": [
       "<IPython.core.display.Markdown object>"
      ]
     },
     "metadata": {},
     "output_type": "display_data"
    },
    {
     "data": {
      "text/html": [
       "<div>\n",
       "<style scoped>\n",
       "    .dataframe tbody tr th:only-of-type {\n",
       "        vertical-align: middle;\n",
       "    }\n",
       "\n",
       "    .dataframe tbody tr th {\n",
       "        vertical-align: top;\n",
       "    }\n",
       "\n",
       "    .dataframe thead th {\n",
       "        text-align: right;\n",
       "    }\n",
       "</style>\n",
       "<table border=\"1\" class=\"dataframe\">\n",
       "  <thead>\n",
       "    <tr style=\"text-align: right;\">\n",
       "      <th></th>\n",
       "      <th>MG_Hydro</th>\n",
       "      <th>MG_PV</th>\n",
       "      <th>SA_PV</th>\n",
       "      <th>MG_Diesel</th>\n",
       "      <th>SA_Diesel</th>\n",
       "      <th>MG_Wind</th>\n",
       "    </tr>\n",
       "  </thead>\n",
       "  <tbody>\n",
       "    <tr>\n",
       "      <th>659</th>\n",
       "      <td>99.0</td>\n",
       "      <td>0.310548</td>\n",
       "      <td>0.397556</td>\n",
       "      <td>0.223673</td>\n",
       "      <td>0.288309</td>\n",
       "      <td>99.000000</td>\n",
       "    </tr>\n",
       "    <tr>\n",
       "      <th>109</th>\n",
       "      <td>99.0</td>\n",
       "      <td>0.324323</td>\n",
       "      <td>0.419893</td>\n",
       "      <td>0.219696</td>\n",
       "      <td>0.262611</td>\n",
       "      <td>99.000000</td>\n",
       "    </tr>\n",
       "    <tr>\n",
       "      <th>625</th>\n",
       "      <td>99.0</td>\n",
       "      <td>0.299588</td>\n",
       "      <td>0.382977</td>\n",
       "      <td>0.224031</td>\n",
       "      <td>0.301996</td>\n",
       "      <td>99.000000</td>\n",
       "    </tr>\n",
       "    <tr>\n",
       "      <th>348</th>\n",
       "      <td>99.0</td>\n",
       "      <td>99.000000</td>\n",
       "      <td>0.389384</td>\n",
       "      <td>1.122518</td>\n",
       "      <td>0.276018</td>\n",
       "      <td>99.000000</td>\n",
       "    </tr>\n",
       "    <tr>\n",
       "      <th>452</th>\n",
       "      <td>99.0</td>\n",
       "      <td>99.000000</td>\n",
       "      <td>0.380295</td>\n",
       "      <td>0.728545</td>\n",
       "      <td>0.289147</td>\n",
       "      <td>0.954864</td>\n",
       "    </tr>\n",
       "    <tr>\n",
       "      <th>420</th>\n",
       "      <td>99.0</td>\n",
       "      <td>0.318046</td>\n",
       "      <td>0.409137</td>\n",
       "      <td>0.221830</td>\n",
       "      <td>0.270990</td>\n",
       "      <td>99.000000</td>\n",
       "    </tr>\n",
       "    <tr>\n",
       "      <th>752</th>\n",
       "      <td>99.0</td>\n",
       "      <td>0.303297</td>\n",
       "      <td>0.387348</td>\n",
       "      <td>0.224010</td>\n",
       "      <td>0.288867</td>\n",
       "      <td>99.000000</td>\n",
       "    </tr>\n",
       "  </tbody>\n",
       "</table>\n",
       "</div>"
      ],
      "text/plain": [
       "     MG_Hydro      MG_PV     SA_PV  MG_Diesel  SA_Diesel    MG_Wind\n",
       "659      99.0   0.310548  0.397556   0.223673   0.288309  99.000000\n",
       "109      99.0   0.324323  0.419893   0.219696   0.262611  99.000000\n",
       "625      99.0   0.299588  0.382977   0.224031   0.301996  99.000000\n",
       "348      99.0  99.000000  0.389384   1.122518   0.276018  99.000000\n",
       "452      99.0  99.000000  0.380295   0.728545   0.289147   0.954864\n",
       "420      99.0   0.318046  0.409137   0.221830   0.270990  99.000000\n",
       "752      99.0   0.303297  0.387348   0.224010   0.288867  99.000000"
      ]
     },
     "execution_count": 20,
     "metadata": {},
     "output_type": "execute_result"
    }
   ],
   "source": [
    "o.set_scenario_variables(energy_per_hh_rural, energy_per_hh_urban,\n",
    "                         num_people_per_hh_rural, num_people_per_hh_urban)\n",
    "\n",
    "o.calculate_off_grid_lcoes(mg_hydro_calc, mg_wind_calc, mg_pv_calc,\n",
    "                           sa_pv_calc, mg_diesel_calc, sa_diesel_calc)\n",
    "display(Markdown('### A selection of LCoEs achieved for a sample of settlements'))\n",
    "o.df[[SET_LCOE_MG_HYDRO, SET_LCOE_MG_PV, SET_LCOE_SA_PV, SET_LCOE_MG_DIESEL, SET_LCOE_SA_DIESEL,\n",
    "    SET_LCOE_MG_WIND]].sample(7)"
   ]
  },
  {
   "cell_type": "markdown",
   "metadata": {},
   "source": [
    "# Step 6. Grid extensions - The electrification algorithm\n",
    "This cell takes all the currently grid-connected points in the country, and looks at the points within a certain distance from them, to see if it is more ecnomical to connect them to the grid, or to use one of the non-grid technologies calculate above. Once more points are connected to the grid, the process is repeated, so that new points close to those points might also be connected. This is repeated until there are no new points to connect to the grid.\n",
    "\n",
    "The onle value that needs to be entered is the additional cost paid when extending the grid, to strengthen the previous sections of grid. It is given asa ratio of the original cost of that grid section"
   ]
  },
  {
   "cell_type": "code",
   "execution_count": 21,
   "metadata": {},
   "outputs": [],
   "source": [
    "existing_grid_cost_ratio = 0.1"
   ]
  },
  {
   "cell_type": "markdown",
   "metadata": {},
   "source": [
    "Then this code runs the analysis."
   ]
  },
  {
   "cell_type": "code",
   "execution_count": 22,
   "metadata": {},
   "outputs": [
    {
     "name": "stderr",
     "output_type": "stream",
     "text": [
      "2019-02-25 17:46:23,158\t\tDetermine future pre-electrification status\n",
      "2019-02-25 17:46:23,227\t\tElectrification loop 1 with 143 electrified\n",
      "2019-02-25 17:46:23,268\t\tElectrification loop 2 with 317 electrified\n"
     ]
    },
    {
     "data": {
      "text/markdown": [
       "### The algorithm found 451 new settlements to connect to the grid"
      ],
      "text/plain": [
       "<IPython.core.display.Markdown object>"
      ]
     },
     "metadata": {},
     "output_type": "display_data"
    }
   ],
   "source": [
    "o.run_elec(grid_lcoes_rural, grid_lcoes_urban, grid_price, existing_grid_cost_ratio, max_grid_extension_dist)\n",
    "elec2015 = o.df[SET_ELEC_CURRENT].sum()\n",
    "elec2030 = o.df.loc[o.df[SET_LCOE_GRID] < 99, SET_LCOE_GRID].count()\n",
    "display(Markdown('### The algorithm found {} new settlements to connect to the grid'.format(elec2030 - elec2015)))"
   ]
  },
  {
   "cell_type": "markdown",
   "metadata": {},
   "source": [
    "# Step 7 - Results, Summaries and Visualization\n",
    "With all the calculations and grid-extensions complete, this cell gets the final results on which technology was chosen for each point, how much capacity needs to be installed and what it will cost. Then the summaries are generated, to show the overall requirements for the country. The only values that can be changed here are some capacity factor values for different technologies."
   ]
  },
  {
   "cell_type": "code",
   "execution_count": 23,
   "metadata": {
    "scrolled": false
   },
   "outputs": [
    {
     "name": "stderr",
     "output_type": "stream",
     "text": [
      "2019-02-25 17:46:26,479\t\tDetermine minimum overall\n",
      "2019-02-25 17:46:26,487\t\tDetermine minimum overall LCOE\n",
      "2019-02-25 17:46:26,533\t\tAdd technology codes\n",
      "2019-02-25 17:46:26,565\t\tDetermine minimum category\n",
      "2019-02-25 17:46:26,571\t\tCalculate new capacity\n",
      "2019-02-25 17:46:26,624\t\tCalculate investment cost\n"
     ]
    },
    {
     "data": {
      "text/markdown": [
       "### Summaries  \n",
       "These are the summaized results for full electrification of the selected country by 2030"
      ],
      "text/plain": [
       "<IPython.core.display.Markdown object>"
      ]
     },
     "metadata": {},
     "output_type": "display_data"
    },
    {
     "data": {
      "text/html": [
       "<div>\n",
       "<style scoped>\n",
       "    .dataframe tbody tr th:only-of-type {\n",
       "        vertical-align: middle;\n",
       "    }\n",
       "\n",
       "    .dataframe tbody tr th {\n",
       "        vertical-align: top;\n",
       "    }\n",
       "\n",
       "    .dataframe thead th {\n",
       "        text-align: right;\n",
       "    }\n",
       "</style>\n",
       "<table border=\"1\" class=\"dataframe\">\n",
       "  <thead>\n",
       "    <tr style=\"text-align: right;\">\n",
       "      <th></th>\n",
       "      <th>Population</th>\n",
       "      <th>New connections</th>\n",
       "      <th>Capacity (kW)</th>\n",
       "      <th>Investments (million USD)</th>\n",
       "    </tr>\n",
       "  </thead>\n",
       "  <tbody>\n",
       "    <tr>\n",
       "      <th>Grid</th>\n",
       "      <td>19719576</td>\n",
       "      <td>18268487</td>\n",
       "      <td>1137514</td>\n",
       "      <td>4446.69</td>\n",
       "    </tr>\n",
       "    <tr>\n",
       "      <th>SA_Diesel</th>\n",
       "      <td>3385604</td>\n",
       "      <td>3385604</td>\n",
       "      <td>12002</td>\n",
       "      <td>16.47</td>\n",
       "    </tr>\n",
       "    <tr>\n",
       "      <th>SA_PV</th>\n",
       "      <td>0</td>\n",
       "      <td>0</td>\n",
       "      <td>0</td>\n",
       "      <td>0.00</td>\n",
       "    </tr>\n",
       "    <tr>\n",
       "      <th>MG_Diesel</th>\n",
       "      <td>4605890</td>\n",
       "      <td>4605890</td>\n",
       "      <td>409703</td>\n",
       "      <td>454.16</td>\n",
       "    </tr>\n",
       "    <tr>\n",
       "      <th>MG_PV</th>\n",
       "      <td>0</td>\n",
       "      <td>0</td>\n",
       "      <td>0</td>\n",
       "      <td>0.00</td>\n",
       "    </tr>\n",
       "    <tr>\n",
       "      <th>MG_Wind</th>\n",
       "      <td>0</td>\n",
       "      <td>0</td>\n",
       "      <td>0</td>\n",
       "      <td>0.00</td>\n",
       "    </tr>\n",
       "    <tr>\n",
       "      <th>MG_Hydro</th>\n",
       "      <td>0</td>\n",
       "      <td>0</td>\n",
       "      <td>0</td>\n",
       "      <td>0.00</td>\n",
       "    </tr>\n",
       "    <tr>\n",
       "      <th>Total</th>\n",
       "      <td>27711071</td>\n",
       "      <td>26259982</td>\n",
       "      <td>1559221</td>\n",
       "      <td>4917.32</td>\n",
       "    </tr>\n",
       "  </tbody>\n",
       "</table>\n",
       "</div>"
      ],
      "text/plain": [
       "           Population  New connections  Capacity (kW)  \\\n",
       "Grid         19719576         18268487        1137514   \n",
       "SA_Diesel     3385604          3385604          12002   \n",
       "SA_PV               0                0              0   \n",
       "MG_Diesel     4605890          4605890         409703   \n",
       "MG_PV               0                0              0   \n",
       "MG_Wind             0                0              0   \n",
       "MG_Hydro            0                0              0   \n",
       "Total        27711071         26259982        1559221   \n",
       "\n",
       "           Investments (million USD)  \n",
       "Grid                         4446.69  \n",
       "SA_Diesel                      16.47  \n",
       "SA_PV                           0.00  \n",
       "MG_Diesel                     454.16  \n",
       "MG_PV                           0.00  \n",
       "MG_Wind                         0.00  \n",
       "MG_Hydro                        0.00  \n",
       "Total                        4917.32  "
      ]
     },
     "execution_count": 23,
     "metadata": {},
     "output_type": "execute_result"
    }
   ],
   "source": [
    "o.results_columns(mg_hydro_calc, mg_wind_calc, mg_pv_calc, sa_pv_calc,\n",
    "                                 mg_diesel_calc, sa_diesel_calc, grid_calc)\n",
    "\n",
    "population_ = 'population_'\n",
    "new_connections_ = 'new_connections_'\n",
    "capacity_ = 'capacity_'\n",
    "investments_ = 'investment_'\n",
    "\n",
    "rows = []\n",
    "techs = [SET_LCOE_GRID,SET_LCOE_SA_DIESEL,SET_LCOE_SA_PV,SET_LCOE_MG_DIESEL,\n",
    "         SET_LCOE_MG_PV,SET_LCOE_MG_WIND,SET_LCOE_MG_HYDRO]\n",
    "colors = ['#73B2FF','#EDD100','#EDA800','#1F6600','#98E600','#70A800','#1FA800']\n",
    "techs_colors = dict(zip(techs, colors))\n",
    "\n",
    "rows.extend([population_ + t for t in techs])\n",
    "rows.extend([new_connections_ + t for t in techs])\n",
    "rows.extend([capacity_ + t for t in techs])\n",
    "rows.extend([investments_ + t for t in techs])\n",
    "summary = pd.Series(index=rows)\n",
    "\n",
    "for t in techs:\n",
    "    summary.loc[population_ + t] = o.df.loc[o.df[SET_MIN_OVERALL] == t, SET_POP_FUTURE].sum()\n",
    "    summary.loc[new_connections_ + t] = o.df.loc[o.df[SET_MIN_OVERALL] == t, SET_NEW_CONNECTIONS].sum()\n",
    "    summary.loc[capacity_ + t] = o.df.loc[o.df[SET_MIN_OVERALL] == t, SET_NEW_CAPACITY].sum()\n",
    "    summary.loc[investments_ + t] = o.df.loc[o.df[SET_MIN_OVERALL] == t, SET_INVESTMENT_COST].sum()\n",
    "\n",
    "display(Markdown('### Summaries  \\nThese are the summaized results for full electrification of the selected country by 2030'))\n",
    "index = techs + ['Total']\n",
    "columns = ['Population', 'New connections', 'Capacity (kW)', 'Investments (million USD)']\n",
    "summary_table = pd.DataFrame(index=index, columns=columns)\n",
    "\n",
    "summary_table[columns[0]] = summary.iloc[0:7].astype(int).tolist() + [int(summary.iloc[0:7].sum())]\n",
    "summary_table[columns[1]] = summary.iloc[7:14].astype(int).tolist() + [int(summary.iloc[7:14].sum())]\n",
    "summary_table[columns[2]] = summary.iloc[14:21].astype(int).tolist() + [int(summary.iloc[14:21].sum())]\n",
    "summary_table[columns[3]] = [round(x/1e4)/1e2 for x in summary.iloc[21:28].astype(float).tolist()] + [round(summary.iloc[21:28].sum()/1e4)/1e2]\n",
    "summary_table.head(10)"
   ]
  },
  {
   "cell_type": "code",
   "execution_count": 24,
   "metadata": {
    "scrolled": false
   },
   "outputs": [
    {
     "name": "stderr",
     "output_type": "stream",
     "text": [
      "2019-02-25 17:46:28,609\t\tfindfont: Matching :family=sans-serif:style=normal:variant=normal:weight=normal:stretch=normal:size=15.0 to DejaVu Sans ('C:\\\\Users\\\\alekor\\\\AppData\\\\Local\\\\Continuum\\\\anaconda3\\\\lib\\\\site-packages\\\\matplotlib\\\\mpl-data\\\\fonts\\\\ttf\\\\DejaVuSans.ttf') with score of 0.050000\n",
      "2019-02-25 17:46:28,659\t\tfindfont: Matching :family=sans-serif:style=normal:variant=normal:weight=normal:stretch=normal:size=30.0 to DejaVu Sans ('C:\\\\Users\\\\alekor\\\\AppData\\\\Local\\\\Continuum\\\\anaconda3\\\\lib\\\\site-packages\\\\matplotlib\\\\mpl-data\\\\fonts\\\\ttf\\\\DejaVuSans.ttf') with score of 0.050000\n",
      "2019-02-25 17:46:28,672\t\tfindfont: Matching :family=sans-serif:style=normal:variant=normal:weight=normal:stretch=normal:size=10.0 to DejaVu Sans ('C:\\\\Users\\\\alekor\\\\AppData\\\\Local\\\\Continuum\\\\anaconda3\\\\lib\\\\site-packages\\\\matplotlib\\\\mpl-data\\\\fonts\\\\ttf\\\\DejaVuSans.ttf') with score of 0.050000\n"
     ]
    },
    {
     "data": {
      "image/png": "[encoded data removed]",
      "text/plain": [
       "<Figure size 2160x2160 with 4 Axes>"
      ]
     },
     "metadata": {
      "needs_background": "light"
     },
     "output_type": "display_data"
    }
   ],
   "source": [
    "summary_plot=summary_table.drop(labels='Total',axis=0)\n",
    "fig_size = [30, 30]\n",
    "font_size = 15\n",
    "plt.rcParams[\"figure.figsize\"] = fig_size\n",
    "f, axarr = plt.subplots(2, 2)\n",
    "fig_size = [30, 30]\n",
    "font_size = 15\n",
    "plt.rcParams[\"figure.figsize\"] = fig_size\n",
    "\n",
    "sns.barplot(x=summary_plot.index.tolist(), y=columns[0], data=summary_plot, ax=axarr[0, 0], palette=colors)\n",
    "axarr[0, 0].set_ylabel(columns[0], fontsize=2*font_size)\n",
    "axarr[0, 0].tick_params(labelsize=font_size)\n",
    "sns.barplot(x=summary_plot.index.tolist(), y=columns[1], data=summary_plot, ax=axarr[0, 1], palette=colors)\n",
    "axarr[0, 1].set_ylabel(columns[1], fontsize=2*font_size)\n",
    "axarr[0, 1].tick_params(labelsize=font_size)\n",
    "sns.barplot(x=summary_plot.index.tolist(), y=columns[2], data=summary_plot, ax=axarr[1, 0], palette=colors)\n",
    "axarr[1, 0].set_ylabel(columns[2], fontsize=2*font_size)\n",
    "axarr[1, 0].tick_params(labelsize=font_size)\n",
    "sns.barplot(x=summary_plot.index.tolist(), y=columns[3], data=summary_plot, ax=axarr[1, 1], palette=colors)\n",
    "axarr[1, 1].set_ylabel(columns[3], fontsize=2*font_size)\n",
    "axarr[1, 1].tick_params(labelsize=font_size)"
   ]
  },
  {
   "cell_type": "markdown",
   "metadata": {},
   "source": [
    "## Mapping of electrification results\n",
    "\n",
    "This code generates two maps:\n",
    " - one showing the spread of technologies\n",
    " - one showing the cost of electricity at each point\n",
    " \n",
    "They can be accessed using the links below."
   ]
  },
  {
   "cell_type": "code",
   "execution_count": 25,
   "metadata": {
    "scrolled": false
   },
   "outputs": [
    {
     "ename": "ValueError",
     "evalue": "['latlon'] are not valid options, expected ('bubbling_mouse_events', 'color', 'dash_array', 'dash_offset', 'fill', 'fill_color', 'fill_opacity', 'fill_rule', 'line_cap', 'line_join', 'opacity', 'stroke', 'weight')",
     "output_type": "error",
     "traceback": [
      "\u001b[1;31m---------------------------------------------------------------------------\u001b[0m",
      "\u001b[1;31mValueError\u001b[0m                                Traceback (most recent call last)",
      "\u001b[1;32m<ipython-input-25-51a6079aad7d>\u001b[0m in \u001b[0;36m<module>\u001b[1;34m()\u001b[0m\n\u001b[0;32m     39\u001b[0m                     \u001b[0mweight\u001b[0m\u001b[1;33m=\u001b[0m\u001b[1;36m2.5\u001b[0m\u001b[1;33m,\u001b[0m\u001b[1;33m\u001b[0m\u001b[0m\n\u001b[0;32m     40\u001b[0m                     \u001b[0mopacity\u001b[0m\u001b[1;33m=\u001b[0m\u001b[1;36m0.9\u001b[0m\u001b[1;33m,\u001b[0m\u001b[1;33m\u001b[0m\u001b[0m\n\u001b[1;32m---> 41\u001b[1;33m                     latlon=False).add_to(map_tech)\n\u001b[0m\u001b[0;32m     42\u001b[0m     folium.PolyLine(line,\n\u001b[0;32m     43\u001b[0m                     \u001b[0mcolor\u001b[0m\u001b[1;33m=\u001b[0m\u001b[1;34m'#656464'\u001b[0m\u001b[1;33m,\u001b[0m\u001b[1;33m\u001b[0m\u001b[0m\n",
      "\u001b[1;32m~\\AppData\\Local\\Continuum\\anaconda3\\lib\\site-packages\\folium\\vector_layers.py\u001b[0m in \u001b[0;36m__init__\u001b[1;34m(self, locations, popup, tooltip, **kwargs)\u001b[0m\n\u001b[0;32m    168\u001b[0m                                        tooltip=tooltip)\n\u001b[0;32m    169\u001b[0m         \u001b[0mself\u001b[0m\u001b[1;33m.\u001b[0m\u001b[0m_name\u001b[0m \u001b[1;33m=\u001b[0m \u001b[1;34m'PolyLine'\u001b[0m\u001b[1;33m\u001b[0m\u001b[0m\n\u001b[1;32m--> 170\u001b[1;33m         \u001b[0mself\u001b[0m\u001b[1;33m.\u001b[0m\u001b[0moptions\u001b[0m \u001b[1;33m=\u001b[0m \u001b[0m_parse_options\u001b[0m\u001b[1;33m(\u001b[0m\u001b[0mline\u001b[0m\u001b[1;33m=\u001b[0m\u001b[1;32mTrue\u001b[0m\u001b[1;33m,\u001b[0m \u001b[1;33m**\u001b[0m\u001b[0mkwargs\u001b[0m\u001b[1;33m)\u001b[0m\u001b[1;33m\u001b[0m\u001b[0m\n\u001b[0m\u001b[0;32m    171\u001b[0m \u001b[1;33m\u001b[0m\u001b[0m\n\u001b[0;32m    172\u001b[0m \u001b[1;33m\u001b[0m\u001b[0m\n",
      "\u001b[1;32m~\\AppData\\Local\\Continuum\\anaconda3\\lib\\site-packages\\folium\\vector_layers.py\u001b[0m in \u001b[0;36m_parse_options\u001b[1;34m(line, radius, **kwargs)\u001b[0m\n\u001b[0;32m    124\u001b[0m     \u001b[1;32mif\u001b[0m \u001b[0mradius\u001b[0m\u001b[1;33m:\u001b[0m\u001b[1;33m\u001b[0m\u001b[0m\n\u001b[0;32m    125\u001b[0m         \u001b[0mextra_options\u001b[0m\u001b[1;33m.\u001b[0m\u001b[0mupdate\u001b[0m\u001b[1;33m(\u001b[0m\u001b[1;33m{\u001b[0m\u001b[1;34m'radius'\u001b[0m\u001b[1;33m:\u001b[0m \u001b[0mradius\u001b[0m\u001b[1;33m}\u001b[0m\u001b[1;33m)\u001b[0m\u001b[1;33m\u001b[0m\u001b[0m\n\u001b[1;32m--> 126\u001b[1;33m     \u001b[0moptions\u001b[0m \u001b[1;33m=\u001b[0m \u001b[0mpath_options\u001b[0m\u001b[1;33m(\u001b[0m\u001b[1;33m**\u001b[0m\u001b[0mkwargs\u001b[0m\u001b[1;33m)\u001b[0m\u001b[1;33m\u001b[0m\u001b[0m\n\u001b[0m\u001b[0;32m    127\u001b[0m     \u001b[0moptions\u001b[0m\u001b[1;33m.\u001b[0m\u001b[0mupdate\u001b[0m\u001b[1;33m(\u001b[0m\u001b[0mextra_options\u001b[0m\u001b[1;33m)\u001b[0m\u001b[1;33m\u001b[0m\u001b[0m\n\u001b[0;32m    128\u001b[0m     \u001b[1;32mreturn\u001b[0m \u001b[0mjson\u001b[0m\u001b[1;33m.\u001b[0m\u001b[0mdumps\u001b[0m\u001b[1;33m(\u001b[0m\u001b[0moptions\u001b[0m\u001b[1;33m,\u001b[0m \u001b[0msort_keys\u001b[0m\u001b[1;33m=\u001b[0m\u001b[1;32mTrue\u001b[0m\u001b[1;33m,\u001b[0m \u001b[0mindent\u001b[0m\u001b[1;33m=\u001b[0m\u001b[1;36m2\u001b[0m\u001b[1;33m)\u001b[0m\u001b[1;33m\u001b[0m\u001b[0m\n",
      "\u001b[1;32m~\\AppData\\Local\\Continuum\\anaconda3\\lib\\site-packages\\folium\\vector_layers.py\u001b[0m in \u001b[0;36mpath_options\u001b[1;34m(**kwargs)\u001b[0m\n\u001b[0;32m     87\u001b[0m         raise ValueError(\n\u001b[0;32m     88\u001b[0m             \u001b[1;34m'{non_valid} are not valid options, '\u001b[0m\u001b[1;33m\u001b[0m\u001b[0m\n\u001b[1;32m---> 89\u001b[1;33m             \u001b[1;34m'expected {valid_options}'\u001b[0m\u001b[1;33m.\u001b[0m\u001b[0mformat\u001b[0m\u001b[1;33m(\u001b[0m\u001b[0mnon_valid\u001b[0m\u001b[1;33m=\u001b[0m\u001b[0mnon_valid\u001b[0m\u001b[1;33m,\u001b[0m \u001b[0mvalid_options\u001b[0m\u001b[1;33m=\u001b[0m\u001b[0mvalid_options\u001b[0m\u001b[1;33m)\u001b[0m\u001b[1;33m\u001b[0m\u001b[0m\n\u001b[0m\u001b[0;32m     90\u001b[0m         )\n\u001b[0;32m     91\u001b[0m \u001b[1;33m\u001b[0m\u001b[0m\n",
      "\u001b[1;31mValueError\u001b[0m: ['latlon'] are not valid options, expected ('bubbling_mouse_events', 'color', 'dash_array', 'dash_offset', 'fill', 'fill_color', 'fill_opacity', 'fill_rule', 'line_cap', 'line_join', 'opacity', 'stroke', 'weight')"
     ]
    }
   ],
   "source": [
    "x_ave = o.df[SET_X_DEG].mean()\n",
    "y_ave = o.df[SET_Y_DEG].mean()\n",
    "lcoe_ave = o.df[SET_MIN_OVERALL_LCOE].median()\n",
    "\n",
    "map_tech = folium.Map(location=[y_ave,x_ave], zoom_start=6)\n",
    "map_lcoe = folium.Map(location=[y_ave,x_ave], zoom_start=6)\n",
    "\n",
    "for index, row in o.df.iterrows():\n",
    "    tech_color = techs_colors[(row[SET_MIN_OVERALL])]\n",
    "    folium.CircleMarker([row[SET_Y_DEG], row[SET_X_DEG]],\n",
    "                        radius=5000,#cell_size*300*(row['LCOE']/lcoe_ave)**2,\n",
    "                        #popup='LCOE: {0:.3f} USD/kWh'.format(row['LCOE']),\n",
    "                        color=tech_color,\n",
    "                        fill_color=tech_color,\n",
    "                       ).add_to(map_tech)\n",
    "\n",
    "\n",
    "lcoe_colors = {0.1: '#edf8fb',0.2: '#ccece6',0.3: '#99d8c9',0.4: '#66c2a4',0.5: '#2ca25f',0.6: '#006d2c'}\n",
    "for index, row in o.df.iterrows():\n",
    "    lcoe = row[SET_MIN_OVERALL_LCOE]\n",
    "    if lcoe > 0.6: lcoe = 0.6\n",
    "    lcoe_color = lcoe_colors[ceil(lcoe*10)/10]\n",
    "    folium.CircleMarker([row[SET_Y_DEG], row[SET_X_DEG]],\n",
    "                        radius=5000,#cell_size*300*(row['LCOE']/lcoe_ave)**2,\n",
    "                        #popup='LCOE: {0:.3f} USD/kWh'.format(row['LCOE']),\n",
    "                        color=lcoe_color,\n",
    "                        fill_color=lcoe_color,\n",
    "                       ).add_to(map_lcoe)\n",
    "    \n",
    "grid_lines = []\n",
    "for item in json.load(open('grid_planned.json'))['features']:\n",
    "    grid_lines.append(item['geometry']['paths'][0])\n",
    "for item in json.load(open('grid_existing.json'))['features']:\n",
    "    grid_lines.append(item['geometry']['paths'][0])\n",
    "    \n",
    "for line in grid_lines:\n",
    "    folium.PolyLine(line,\n",
    "                    color='#656464',\n",
    "                    weight=2.5,\n",
    "                    opacity=0.9,\n",
    "                    latlon=False).add_to(map_tech)\n",
    "    folium.PolyLine(line,\n",
    "                    color='#656464',\n",
    "                    weight=2.5,\n",
    "                    opacity=0.9,\n",
    "                    latlon=False).add_to(map_lcoe)\n",
    "\n",
    "try:\n",
    "    os.makedirs('maps')\n",
    "except FileExistsError:\n",
    "    pass\n",
    "\n",
    "map_tech_output = 'maps/map_{}{}_tech.html'.format(country, energy_per_hh_urban)\n",
    "map_tech.save(map_tech_output)\n",
    "map_lcoe_output = 'maps/map_{}{}_lcoe.html'.format(country, energy_per_hh_urban)\n",
    "map_lcoe.save(map_lcoe_output)\n",
    "\n",
    "display(Markdown('<a href=\"{}\" target=\"_blank\">Map of technology split</a>'.format(map_tech_output)))\n",
    "display(Markdown('Colour coding for technology split:'))\n",
    "display(HTML('<font color=\"{}\">&bull;Grid</font>&nbsp;&nbsp;&nbsp;<font color=\"{}\">&bull;SA Diesel</font>&nbsp;&nbsp;&nbsp;\\\n",
    "             <font color=\"{}\">&bull;SA PV</font>&nbsp;&nbsp;&nbsp;<font color=\"{}\">&bull;MG Diesel</font>&nbsp;&nbsp;&nbsp;\\\n",
    "             <font color=\"{}\">&bull;MG PV</font>&nbsp;&nbsp;&nbsp;<font color=\"{}\">&bull;Wind</font>&nbsp;&nbsp;&nbsp;\\\n",
    "             <font color=\"{}\">&bull;Hydro</font>'.format(techs_colors[SET_LCOE_GRID], techs_colors[SET_LCOE_SA_DIESEL],\n",
    "                                                         techs_colors[SET_LCOE_SA_PV], techs_colors[SET_LCOE_MG_DIESEL],\n",
    "                                                         techs_colors[SET_LCOE_MG_PV], techs_colors[SET_LCOE_MG_WIND],\n",
    "                                                         techs_colors[SET_LCOE_MG_HYDRO])))\n",
    "\n",
    "display(Markdown('<a href=\"{}\" target=\"_blank\">Map of electricity cost</a>'.format(map_lcoe_output)))\n",
    "display(Markdown('Colour coding for LCOE, in USD/kWh'))\n",
    "cm.LinearColormap(['#edf8fb','#ccece6','#99d8c9','#66c2a4','#2ca25f','#006d2c'],\n",
    "                  index=[0.1, 0.2, 0.3, 0.4, 0.5, 0.6], vmin=0, vmax=0.6)"
   ]
  },
  {
   "cell_type": "code",
   "execution_count": 27,
   "metadata": {},
   "outputs": [],
   "source": [
    "try:\n",
    "    os.makedirs('csv_out')\n",
    "except FileExistsError:\n",
    "    pass\n",
    "\n",
    "o.df.to_csv('csv_out/{}{}.csv'.format(country, energy_per_hh_urban), index=False)"
   ]
  },
  {
   "cell_type": "code",
   "execution_count": null,
   "metadata": {
    "collapsed": true
   },
   "outputs": [],
   "source": []
  }
 ],
 "metadata": {
  "anaconda-cloud": {},
  "kernelspec": {
   "display_name": "Python 3",
   "language": "python",
   "name": "python3"
  },
  "language_info": {
   "codemirror_mode": {
    "name": "ipython",
    "version": 3
   },
   "file_extension": ".py",
   "mimetype": "text/x-python",
   "name": "python",
   "nbconvert_exporter": "python",
   "pygments_lexer": "ipython3",
   "version": "3.7.0"
  }
 },
 "nbformat": 4,
 "nbformat_minor": 1
}
